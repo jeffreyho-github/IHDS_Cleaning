{
 "cells": [
  {
   "cell_type": "code",
   "execution_count": 1,
   "id": "13687dba",
   "metadata": {},
   "outputs": [],
   "source": [
    "import pandas as pd\n",
    "import numpy as np\n",
    "from sklearn import preprocessing\n",
    "import seaborn as sns\n",
    "import matplotlib.pyplot as plt\n",
    "from sklearn.linear_model import LogisticRegression\n",
    "from scipy.stats import chi2"
   ]
  },
  {
   "cell_type": "code",
   "execution_count": 2,
   "id": "aee8e619",
   "metadata": {
    "scrolled": true
   },
   "outputs": [],
   "source": [
    "path = r'C:\\Users\\User\\Desktop\\University of Manchester\\MSc Data Science\\Semester 2\\Dissertation\\Dataset\\IHDS data\\IHDS_2012\\IHDS_2012 csv file'\n",
    "df = pd.read_csv(path + '/' + 'IHDS_2012_D0001_Individual_selected var.csv')"
   ]
  },
  {
   "cell_type": "code",
   "execution_count": 5,
   "id": "b1fc9e08",
   "metadata": {},
   "outputs": [
    {
     "data": {
      "text/plain": [
       "Index(['SURVEY', 'STATEID', 'DISTID', 'PSUID', 'HHID', 'HHSPLITID', 'PERSONID',\n",
       "       'IDPSU', 'IDHH', 'IDPERSON', 'WT', 'FWT', 'DIST01', 'DISTRICT', 'RO3',\n",
       "       'RO4', 'RO5', 'RO6', 'RO7', 'RO8', 'RO9', 'RO10', 'FM38', 'NF13',\n",
       "       'NF33', 'NF53', 'ID11', 'WS4', 'WS5', 'WS8', 'WKANY5', 'WKDAYS', 'NF1',\n",
       "       'NFBN21', 'NFBN41'],\n",
       "      dtype='object')"
      ]
     },
     "execution_count": 5,
     "metadata": {},
     "output_type": "execute_result"
    }
   ],
   "source": [
    "df.columns"
   ]
  },
  {
   "cell_type": "markdown",
   "id": "ad2cb071",
   "metadata": {},
   "source": [
    "## Rename Variables"
   ]
  },
  {
   "cell_type": "code",
   "execution_count": 6,
   "id": "9ad074cf",
   "metadata": {},
   "outputs": [],
   "source": [
    "#rename age(RO5), sex(RO3), industry(WS5), occupation(WS4),work hr per day(WS8), father id(RO9), mother id(r10), relationship to head(RO4)\n",
    "df = df.rename(columns={'RO5': 'age','RO3': 'sex', 'WS5':'industry', 'WS4': 'occup', 'WS8': 'wkhr_perday', 'RO9':'father_id', 'RO10':'mother_id','ID11':'religion', 'RO4':'relation_to_head','RO6':'mar_status', 'RO7':'activity_status', 'RO8':'spouse_id'})"
   ]
  },
  {
   "cell_type": "markdown",
   "id": "6e37d66f",
   "metadata": {},
   "source": [
    "## Drop and Impute Missing Values"
   ]
  },
  {
   "cell_type": "code",
   "execution_count": 7,
   "id": "5f8971c0",
   "metadata": {
    "scrolled": true
   },
   "outputs": [
    {
     "data": {
      "text/plain": [
       "SURVEY                   1\n",
       "STATEID                  0\n",
       "DISTID                   0\n",
       "PSUID                    0\n",
       "HHID                     0\n",
       "HHSPLITID                0\n",
       "PERSONID                 1\n",
       "IDPSU                    0\n",
       "IDHH                     0\n",
       "IDPERSON                 1\n",
       "WT                       1\n",
       "FWT                      1\n",
       "DIST01                 106\n",
       "DISTRICT               106\n",
       "sex                      1\n",
       "relation_to_head         1\n",
       "age                      4\n",
       "mar_status               4\n",
       "activity_status          4\n",
       "spouse_id            92522\n",
       "father_id            49598\n",
       "mother_id            50099\n",
       "FM38                158337\n",
       "NF13                192574\n",
       "NF33                203391\n",
       "NF53                204462\n",
       "religion                 2\n",
       "occup               151117\n",
       "industry            151269\n",
       "wkhr_perday         151160\n",
       "WKANY5                   1\n",
       "WKDAYS                   1\n",
       "NF1                      1\n",
       "NFBN21                   1\n",
       "NFBN41                   1\n",
       "dtype: int64"
      ]
     },
     "execution_count": 7,
     "metadata": {},
     "output_type": "execute_result"
    }
   ],
   "source": [
    "# Check for missing values in differetnt columns\n",
    "df.isna().sum()"
   ]
  },
  {
   "cell_type": "code",
   "execution_count": 8,
   "id": "b4ee5a09",
   "metadata": {},
   "outputs": [],
   "source": [
    "# Drop the rows if they have NAs in PERSONID, IDPERSON, DIST01, DISTRICT, sex, relation_to_head, religion, age, mar_status, activity_status, religion, WKANY5, WKDAYS\n",
    "\n",
    "columns_with_na = ['PERSONID', 'IDPERSON', 'DIST01', 'DISTRICT', 'sex', 'relation_to_head', 'religion', 'age', 'mar_status', 'activity_status', 'religion', 'WKANY5', 'WKDAYS'\n",
    "]\n",
    "df = df.dropna(axis=0, subset=columns_with_na)"
   ]
  },
  {
   "cell_type": "code",
   "execution_count": 9,
   "id": "8404ce5d",
   "metadata": {},
   "outputs": [
    {
     "data": {
      "text/plain": [
       "SURVEY                   0\n",
       "STATEID                  0\n",
       "DISTID                   0\n",
       "PSUID                    0\n",
       "HHID                     0\n",
       "HHSPLITID                0\n",
       "PERSONID                 0\n",
       "IDPSU                    0\n",
       "IDHH                     0\n",
       "IDPERSON                 0\n",
       "WT                       0\n",
       "FWT                      0\n",
       "DIST01                   0\n",
       "DISTRICT                 0\n",
       "sex                      0\n",
       "relation_to_head         0\n",
       "age                      0\n",
       "mar_status               0\n",
       "activity_status          0\n",
       "spouse_id            92460\n",
       "father_id            49569\n",
       "mother_id            50070\n",
       "FM38                158246\n",
       "NF13                192459\n",
       "NF33                203275\n",
       "NF53                204346\n",
       "religion                 0\n",
       "occup               151036\n",
       "industry            151188\n",
       "wkhr_perday         151079\n",
       "WKANY5                   0\n",
       "WKDAYS                   0\n",
       "NF1                      0\n",
       "NFBN21                   0\n",
       "NFBN41                   0\n",
       "dtype: int64"
      ]
     },
     "execution_count": 9,
     "metadata": {},
     "output_type": "execute_result"
    }
   ],
   "source": [
    "# Check the missing values of different variables again\n",
    "df.isna().sum()"
   ]
  },
  {
   "cell_type": "code",
   "execution_count": 10,
   "id": "a043d8f5",
   "metadata": {},
   "outputs": [],
   "source": [
    "df['occup'].fillna('999', inplace=True)"
   ]
  },
  {
   "cell_type": "code",
   "execution_count": 11,
   "id": "00302d26",
   "metadata": {},
   "outputs": [
    {
     "data": {
      "text/plain": [
       "2281      Manuf agents 41\n",
       "3073      Manuf agents 41\n",
       "5024      Manuf agents 41\n",
       "5820      Manuf agents 41\n",
       "11429     Manuf agents 41\n",
       "               ...       \n",
       "197075    Manuf agents 41\n",
       "198566    Manuf agents 41\n",
       "199752    Manuf agents 41\n",
       "199921    Manuf agents 41\n",
       "202575    Manuf agents 41\n",
       "Name: occup, Length: 82, dtype: object"
      ]
     },
     "execution_count": 11,
     "metadata": {},
     "output_type": "execute_result"
    }
   ],
   "source": [
    "df[df['occup'].str.contains('41')]['occup']"
   ]
  },
  {
   "cell_type": "code",
   "execution_count": 12,
   "id": "649d0259",
   "metadata": {},
   "outputs": [],
   "source": [
    "# Impute missing values for wkhr_perday, FM38, NF13, NF33, NF53, occup, industry, father_id, mother_id\n",
    "df['wkhr_perday'].fillna(0, inplace=True)\n",
    "df['FM38'].fillna(0, inplace=True)\n",
    "df['NF13'].fillna(0, inplace=True)\n",
    "df['NF33'].fillna(0, inplace=True)\n",
    "df['NF53'].fillna(0, inplace=True)\n",
    "# assign 999 to impute missing values in occup, industry, father_id and mother_id to represent none \n",
    "df['occup'].fillna(999, inplace=True)\n",
    "df['industry'].fillna(999, inplace=True)\n",
    "df['father_id'].fillna(999, inplace=True)\n",
    "df['mother_id'].fillna(999, inplace=True)"
   ]
  },
  {
   "cell_type": "code",
   "execution_count": 13,
   "id": "5a17c0ef",
   "metadata": {},
   "outputs": [
    {
     "data": {
      "text/plain": [
       "0.0     204346\n",
       "8.0         20\n",
       "2.0         16\n",
       "6.0         15\n",
       "4.0         14\n",
       "3.0          8\n",
       "9.0          8\n",
       "10.0         7\n",
       "12.0         7\n",
       "5.0          5\n",
       "1.0          4\n",
       "7.0          3\n",
       "Name: NF53, dtype: int64"
      ]
     },
     "execution_count": 13,
     "metadata": {},
     "output_type": "execute_result"
    }
   ],
   "source": [
    "# Limit the range of wkhr_perday, FM38, NF13, NF33, NF53 (set the maximum as 16 hours per day)\n",
    "df['wkhr_perday'].value_counts()\n",
    "df['FM38'].value_counts()\n",
    "df['NF13'].value_counts()\n",
    "df['NF33'].value_counts()\n",
    "df['NF53'].value_counts()"
   ]
  },
  {
   "cell_type": "markdown",
   "id": "d8f2a026",
   "metadata": {},
   "source": [
    "## Encode existing variables using new matching of values and labels"
   ]
  },
  {
   "cell_type": "code",
   "execution_count": 14,
   "id": "b5e0608e",
   "metadata": {},
   "outputs": [
    {
     "data": {
      "text/plain": [
       "1    102451\n",
       "0    102002\n",
       "Name: sex, dtype: int64"
      ]
     },
     "execution_count": 14,
     "metadata": {},
     "output_type": "execute_result"
    }
   ],
   "source": [
    "# Sex\n",
    "df['sex'].value_counts()\n",
    "# Replace Female 2 with 1, Male 1 with 0\n",
    "df['sex'] = df['sex'].replace(['Female 2', 'Male 1'],[1, 0])\n",
    "df['sex'].value_counts()"
   ]
  },
  {
   "cell_type": "code",
   "execution_count": 15,
   "id": "aa757b1b",
   "metadata": {},
   "outputs": [],
   "source": [
    "# Occupation\n",
    "df['occup'].value_counts()\n",
    "\n",
    "# remove all the space characters in occup\n",
    "df['occup'] = df['occup'].replace(' ','')\n",
    "\n",
    "# remove all the string characters in occup, leaving only the NOC code\n",
    "df['occup'] = df['occup'].str.replace('\\D','', regex = True)\n",
    "\n",
    "# impute NA with 999\n",
    "df['occup'].fillna(999, inplace=True)"
   ]
  },
  {
   "cell_type": "code",
   "execution_count": 16,
   "id": "37edd481",
   "metadata": {},
   "outputs": [
    {
     "data": {
      "text/plain": [
       "999    151036\n",
       "63      15295\n",
       "95      13623\n",
       "98       2197\n",
       "15       2076\n",
       "        ...  \n",
       "5           7\n",
       "11          3\n",
       "67          3\n",
       "10          2\n",
       "6           1\n",
       "Name: occup, Length: 93, dtype: int64"
      ]
     },
     "execution_count": 16,
     "metadata": {},
     "output_type": "execute_result"
    }
   ],
   "source": [
    "df['occup'].value_counts()"
   ]
  },
  {
   "cell_type": "code",
   "execution_count": 17,
   "id": "7e186650",
   "metadata": {},
   "outputs": [],
   "source": [
    "# Occupation\n",
    "df['industry'].value_counts()\n",
    "\n",
    "# remove all the space characters in occup\n",
    "df['industry'] = df['industry'].replace(' ','')\n",
    "\n",
    "# remove all the string characters in occup, leaving only the NIC code\n",
    "df['industry'] = df['industry'].str.replace('\\D','', regex = True)"
   ]
  },
  {
   "cell_type": "code",
   "execution_count": 18,
   "id": "4f45bb95",
   "metadata": {},
   "outputs": [
    {
     "data": {
      "text/plain": [
       "0     15496\n",
       "50    13127\n",
       "92     2753\n",
       "70     2559\n",
       "37     1800\n",
       "      ...  \n",
       "13       13\n",
       "98        9\n",
       "84        8\n",
       "4         5\n",
       "14        3\n",
       "Name: industry, Length: 69, dtype: int64"
      ]
     },
     "execution_count": 18,
     "metadata": {},
     "output_type": "execute_result"
    }
   ],
   "source": [
    "df['industry'].value_counts()"
   ]
  },
  {
   "cell_type": "markdown",
   "id": "99ec0960",
   "metadata": {},
   "source": [
    "## Compute new variables"
   ]
  },
  {
   "cell_type": "code",
   "execution_count": 19,
   "id": "4be01c68",
   "metadata": {},
   "outputs": [],
   "source": [
    "#dayhours?\n",
    "#dayhours =  FM38+ NF13 + NF33+ NF53+ wkhr_perday\n",
    "df['total_wkhr_perday'] = df['FM38'] + df['NF13'] + df['NF33'] + df['NF53'] + df['wkhr_perday']\n",
    "def wkhr_max(x):\n",
    "    if x >16:\n",
    "        x=16\n",
    "    else:\n",
    "        return x\n",
    "df['total_wkhr_perday'] = df['total_wkhr_perday'].apply(wkhr_max)"
   ]
  },
  {
   "cell_type": "code",
   "execution_count": 20,
   "id": "18eec1f5",
   "metadata": {},
   "outputs": [],
   "source": [
    "# age groups\n",
    "# define age_group function\n",
    "def age_group(x):\n",
    "    if x <=4:\n",
    "        return 0\n",
    "    elif x>=5 and x <=11:\n",
    "        return 1\n",
    "    elif x>=12 and x <=14:\n",
    "        return 2\n",
    "    elif x>=15 and x <=17:\n",
    "        return 3\n",
    "    else:\n",
    "        return 4\n",
    "# apply age_group function on df['age'] to create new column 'age_gp'\n",
    "df['age_gp'] = df['age'].apply(age_group)"
   ]
  },
  {
   "cell_type": "code",
   "execution_count": 21,
   "id": "5b542ea2",
   "metadata": {},
   "outputs": [
    {
     "data": {
      "text/plain": [
       "0.0      113819\n",
       "56.0      29134\n",
       "42.0       6804\n",
       "70.0       6223\n",
       "14.0       5475\n",
       "28.0       5309\n",
       "84.0       4764\n",
       "35.0       4546\n",
       "21.0       3999\n",
       "63.0       3956\n",
       "7.0        3911\n",
       "112.0      3698\n",
       "49.0       3284\n",
       "98.0       2618\n",
       "77.0       2235\n",
       "91.0       1976\n",
       "105.0      1081\n",
       "Name: total_wk_hr, dtype: int64"
      ]
     },
     "execution_count": 21,
     "metadata": {},
     "output_type": "execute_result"
    }
   ],
   "source": [
    "# total_wk_hr\n",
    "# total_wk_hr = wkhr_perday * 7\n",
    "df['total_wk_hr'] = df['total_wkhr_perday']*7\n",
    "df['total_wk_hr'].value_counts()"
   ]
  },
  {
   "cell_type": "code",
   "execution_count": 22,
   "id": "7e206aa9",
   "metadata": {},
   "outputs": [],
   "source": [
    "#unique_father_id_from_son and unique_father_id_from_father\n",
    "df['father_id'].value_counts()\n",
    "\n",
    "# Assign 99 to replace the string values in father_id\n",
    "df['father_id'] = df['father_id'].replace(['Dead','IF Spouse/Parent outside for more than 6 months'],[99,99])\n"
   ]
  },
  {
   "cell_type": "code",
   "execution_count": 23,
   "id": "4cfe2cdc",
   "metadata": {},
   "outputs": [],
   "source": [
    "#unique_mother_id_from_son and unique_mother_id_from_mother\n",
    "df['mother_id'].value_counts()\n",
    "\n",
    "# Assign 99 to replace the string values in mother_id\n",
    "df['mother_id'] = df['mother_id'].replace(['Dead','IF Spouse/Parent outside for more than 6 months'],[99,99])\n"
   ]
  },
  {
   "cell_type": "code",
   "execution_count": 24,
   "id": "82b7c0e9",
   "metadata": {},
   "outputs": [],
   "source": [
    "# Hazardousness\n",
    "# has to categorise different occupations according to the hazardous work list first\n",
    "hazard_occ_list = [24,71,50,51,52,53,54,66,72,73,74,75,76,78,80,81,82,85,87,88,89,90,91,92]\n",
    "# Create a new column hazard to indicate the hazardousness of the occupation\n",
    "def hazard_occup(x):\n",
    "    hazard_occ_list = ['24','71','50','51','52','53','54','66','72','73','74','75','76','78','80','81','82','85','87','88','89','90','91','92']\n",
    "    if x != '':\n",
    "        if x in(hazard_occ_list):\n",
    "            return 1\n",
    "        else:\n",
    "            return 0\n",
    "df['hazard'] = df['occup'].apply(hazard_occup) \n",
    "# Impute NA with 0\n",
    "df['hazard'].fillna(0, inplace=True)\n",
    "# Convert the dtype of df['hazard']\n",
    "df['hazard'] = df['hazard'].astype(np.int64)"
   ]
  },
  {
   "cell_type": "code",
   "execution_count": 25,
   "id": "b59ecd49",
   "metadata": {},
   "outputs": [
    {
     "data": {
      "text/plain": [
       "0    197647\n",
       "1      6806\n",
       "Name: hazard, dtype: int64"
      ]
     },
     "execution_count": 25,
     "metadata": {},
     "output_type": "execute_result"
    }
   ],
   "source": [
    "df['hazard'].value_counts()"
   ]
  },
  {
   "cell_type": "code",
   "execution_count": 26,
   "id": "82ef18a0",
   "metadata": {},
   "outputs": [],
   "source": [
    "#df.to_csv(path + '/' +'IHDS_2012_cleaning data.csv')"
   ]
  },
  {
   "cell_type": "code",
   "execution_count": 27,
   "id": "28198fe8",
   "metadata": {},
   "outputs": [],
   "source": [
    "# Dependent variable: Incidence of Child Labour (CL_incidence)\n",
    "# Use np.select to create new column representing incidence of child labour\n",
    "conditions = [\n",
    "    ((df['hazard'] == 1) & (df['age_gp'] >=1) & (df['age_gp'] <=3)),\n",
    "    ((df['age_gp'] == 1) & (df['total_wk_hr'] >=1)),\n",
    "    ((df['age_gp'] == 2) & (df['total_wk_hr'] >=14)),\n",
    "    ((df['age_gp'] == 3) & (df['total_wk_hr'] >=43))\n",
    "]\n",
    "choices = [1, 1, 1, 1]\n",
    "# create CL_incidence\n",
    "df['CL_incidence'] = np.select(conditions, choices, 0)"
   ]
  },
  {
   "cell_type": "code",
   "execution_count": 28,
   "id": "1768c634",
   "metadata": {
    "scrolled": true
   },
   "outputs": [],
   "source": [
    "# Data Cleaning for occup\n",
    "# fill NA with 999, replace '' with 999\n",
    "df['occup'].fillna(999, inplace = True)\n",
    "df['occup'] = df['occup'].replace('', 999)\n",
    "\n",
    "# unify the dtype of occup\n",
    "df['occup'] = df['occup'].astype(np.int64)"
   ]
  },
  {
   "cell_type": "code",
   "execution_count": 29,
   "id": "96eade00",
   "metadata": {},
   "outputs": [
    {
     "data": {
      "text/plain": [
       "array([ 99, 999,  84,  15,  35,  95,  63,  98,  97,  24,   1,  59,  30,\n",
       "        57,  79,  85,  81,  54,  64,  52,  65,  43,  75,  17,  16,   8,\n",
       "        87,  83,  72,  19,  86,  33,  32,  77,  66,  37,  56,  38,  93,\n",
       "        96,  49,  73,  39,  34,  42,  55,  26,   3,  44,   2,  12,   7,\n",
       "        21,  40,  31,  41,  51,  18,   5,  90,  71,  89,  80,  92,  53,\n",
       "        23,  14,  94,  82,  20,  50,  29,   9,  36,  91,  74,  62,  76,\n",
       "         4,  68,  45,  88,  25,  78,  60,  22,  13,   6,  61,  11,  10,\n",
       "        67], dtype=int64)"
      ]
     },
     "execution_count": 29,
     "metadata": {},
     "output_type": "execute_result"
    }
   ],
   "source": [
    "df['occup'].unique()"
   ]
  },
  {
   "cell_type": "code",
   "execution_count": 30,
   "id": "f9cab941",
   "metadata": {},
   "outputs": [],
   "source": [
    "# Compute parental occupational risk factors\n",
    "# step 1: grouping the parental occupations into 6 categories\n",
    "# 1:Farmers, Fishermen&Hunters 2:Service&Clerical 3:Sales_workers 4:Construction, Production&Labour 5: Professional&Managerial 6: Others\n",
    "occup_list = df['occup'].unique()\n",
    "\n",
    "def occup_gp(x):\n",
    "    if x !='':\n",
    "        if x <=29:\n",
    "            return 'Professional & Managerial'\n",
    "        elif x <=39 or (x >= 50 and x <=59):\n",
    "            return 'Service & Clerical'\n",
    "        elif x >= 40 and x <=49:\n",
    "            return 'Sales workers'\n",
    "        elif x >= 60 and x <=69:\n",
    "            return 'Farmers, Fishermen & Hunters'\n",
    "        elif x >= 71 and x <=99:\n",
    "            return 'Construction, Production & Labour'\n",
    "        else:\n",
    "            return 'Others'\n",
    "    \n",
    "# apply hhsize_group function on df['age'] to create new column 'age_gp'\n",
    "df['OCCUP_GP'] = df['occup'].apply(occup_gp)\n",
    "\n"
   ]
  },
  {
   "cell_type": "code",
   "execution_count": 31,
   "id": "f0b42a97",
   "metadata": {},
   "outputs": [],
   "source": [
    "# Create father and mother id that can match with IDPERSON\n",
    "# Data Cleaning for father id and mother id, e.g. converting 1 to 01\n",
    "df['father_id'] = df['father_id'].apply(str)\n",
    "df['father_id'] = df['father_id'].replace(['1','2','3','4','5','6','7','8','9'], ['01','02','03','04','05','06','07','08','09'])\n",
    "df['mother_id'] = df['mother_id'].apply(str)\n",
    "df['mother_id'] = df['mother_id'].replace(['1','2','3','4','5','6','7','8','9'], ['01','02','03','04','05','06','07','08','09'])\n",
    "\n",
    "# Create unique father id by concatenating household id and father id\n",
    "df['unique_father_id'] = df['IDHH'].apply(str) + df['father_id']\n",
    "df['unique_father_id'] = df['unique_father_id'].astype(np.int64)\n",
    "\n",
    "# Create unique mother id by concatenating household id and mother id\n",
    "df['unique_mother_id'] = df['IDHH'].apply(str) + df['mother_id']\n",
    "df['unique_mother_id'] = df['unique_mother_id'].astype(np.int64)"
   ]
  },
  {
   "cell_type": "code",
   "execution_count": 32,
   "id": "854c1dd3",
   "metadata": {},
   "outputs": [
    {
     "data": {
      "text/plain": [
       "1.020101e+10    1\n",
       "2.404040e+11    1\n",
       "2.404060e+11    1\n",
       "2.404060e+11    1\n",
       "2.404060e+11    1\n",
       "               ..\n",
       "9.620313e+10    1\n",
       "9.620313e+10    1\n",
       "9.620313e+10    1\n",
       "9.620315e+10    1\n",
       "3.402061e+11    1\n",
       "Name: IDPERSON, Length: 204453, dtype: int64"
      ]
     },
     "execution_count": 32,
     "metadata": {},
     "output_type": "execute_result"
    }
   ],
   "source": [
    "df['IDPERSON'].value_counts()"
   ]
  },
  {
   "cell_type": "code",
   "execution_count": 33,
   "id": "d5d0e6e4",
   "metadata": {},
   "outputs": [],
   "source": [
    "# create paternal_occup\n",
    "paternal_occup = df[['IDPERSON','OCCUP_GP']]\n",
    "paternal_occup = paternal_occup.rename(columns={'IDPERSON':'unique_father_id','OCCUP_GP':'paternal_occup'})\n",
    "\n",
    "# merge paternal occupation with df\n",
    "df = df.merge(paternal_occup, on='unique_father_id', how='left')\n"
   ]
  },
  {
   "cell_type": "code",
   "execution_count": 34,
   "id": "c025e16d",
   "metadata": {},
   "outputs": [],
   "source": [
    "# create maternal_occup\n",
    "maternal_occup = df[['IDPERSON','OCCUP_GP']]\n",
    "maternal_occup = maternal_occup.rename(columns={'IDPERSON':'unique_mother_id','OCCUP_GP':'maternal_occup'})\n",
    "\n",
    "# merge paternal occupation with df\n",
    "df = df.merge(maternal_occup, on='unique_mother_id', how='left')"
   ]
  },
  {
   "cell_type": "code",
   "execution_count": 35,
   "id": "5bb6d5a7",
   "metadata": {},
   "outputs": [],
   "source": [
    "#df.to_csv(path+'/'+'testing.csv')"
   ]
  },
  {
   "cell_type": "code",
   "execution_count": 36,
   "id": "29c686c5",
   "metadata": {},
   "outputs": [
    {
     "data": {
      "image/png": "[encoded data removed]",
      "text/plain": [
       "<Figure size 1800x1080 with 1 Axes>"
      ]
     },
     "metadata": {},
     "output_type": "display_data"
    }
   ],
   "source": [
    "df_child = df[(df['age_gp'] >=1) & (df['age_gp'] <=3)]\n",
    "\n",
    "# EDA for interaction between paternal occupation and gender\n",
    "# Interaction between gender(male) and paternal occupation\n",
    "# Convert the table from long to wide format\n",
    "df_paternal_gender = df_child[['sex','paternal_occup','CL_incidence']]\n",
    "\n",
    "sns.set(rc={'figure.figsize':(25,15)})\n",
    "sns.set_context('paper',font_scale=1.8)\n",
    "myorder = ['Service & Clerical', 'Professional & Managerial', 'Construction, Production & Labour', 'Sales workers', 'Farmers, Fishermen & Hunters', 'Others']\n",
    "sns.barplot(data = df_paternal_gender, x= 'paternal_occup', y = 'CL_incidence', hue='sex', order = myorder, palette = \"tab10\").set_title('Child Labour Incidence Rate of Different Paternal Occupations for IHDS2012', fontsize = 30)\n",
    "plt.show()\n"
   ]
  },
  {
   "cell_type": "code",
   "execution_count": 37,
   "id": "b268c9b6",
   "metadata": {},
   "outputs": [
    {
     "data": {
      "image/png": "[encoded data removed]",
      "text/plain": [
       "<Figure size 1800x1080 with 1 Axes>"
      ]
     },
     "metadata": {},
     "output_type": "display_data"
    }
   ],
   "source": [
    "df_maternal_gender = df_child[['sex','maternal_occup','CL_incidence']]\n",
    "\n",
    "sns.set(rc={'figure.figsize':(25,15)})\n",
    "sns.set_context('paper',font_scale=1.8)\n",
    "myorder = ['Service & Clerical', 'Professional & Managerial', 'Construction, Production & Labour', 'Sales workers', 'Farmers, Fishermen & Hunters', 'Others']\n",
    "sns.barplot(data = df_maternal_gender, x= 'maternal_occup', y = 'CL_incidence', hue='sex', order = myorder, palette = \"tab10\").set_title('Child Labour Incidence Rate of Different Maternal Occupations for IHDS2012', fontsize = 30)\n",
    "L = plt.legend(title='Gender')\n",
    "L.get_texts()[0].set_text('Male')\n",
    "L.get_texts()[1].set_text('Female')\n",
    "\n",
    "plt.show()"
   ]
  },
  {
   "cell_type": "code",
   "execution_count": 38,
   "id": "d34a1f58",
   "metadata": {
    "scrolled": false
   },
   "outputs": [],
   "source": [
    "df_child = df_child.rename(columns={'paternal_occup':'paternal_occup_w2', 'maternal_occup':'maternal_occup_w2'})"
   ]
  },
  {
   "cell_type": "code",
   "execution_count": 39,
   "id": "73d57985",
   "metadata": {},
   "outputs": [],
   "source": [
    "# save as cleaned df_child with parental occup in wave 2\n",
    "#df_child.to_csv(path+'/'+'IHDS_2012_cleaned_df_child_2023_07_10.csv')"
   ]
  },
  {
   "cell_type": "code",
   "execution_count": 40,
   "id": "72fa032b",
   "metadata": {},
   "outputs": [
    {
     "data": {
      "text/plain": [
       "\"\\nfrom sklearn.linear_model import LogisticRegression\\n\\n# instantiate the model (using the default parameters)\\nlogreg = LogisticRegression(random_state=42)\\n\\n# create the training and testing data\\ndf_child = df[(df['age_gp'] >=1) & (df['age_gp'] <=3)]\\ndf_child = df_child[['sex','age', 'religion','CL_incidence','IDHH']]\\n\\n# split the data for training and testing\\nresponse = df_child['CL_incidence']\\nfeature = df_child.drop(columns=['CL_incidence','IDHH'])\\n\\nfrom sklearn.model_selection import train_test_split\\nX_train, X_test, y_train, y_test = train_test_split(feature, response, test_size = 0.1)\\n\\n# fit the model with data\\nlogreg.fit(X_train, y_train)\\n\\n# evaluate the model\\nfrom sklearn.model_selection import cross_val_score\\nscores = cross_val_score(logreg, X_train, y_train, cv = 10)\\nprint(f'10-fold CV score: {scores.mean():.3f} +/- {scores.std():.3f}')\\nprint(f'The score on test data: {logreg.score(X_test, y_test)}')\\n\\n# Print the model result summary\\nimport statsmodels.api as sm\\nlogit_model=sm.Logit(y_train, X_train)\\nresult=logit_model.fit()\\nprint(result.summary())\\n\""
      ]
     },
     "execution_count": 40,
     "metadata": {},
     "output_type": "execute_result"
    }
   ],
   "source": [
    "# binomial multiple logistic regression\n",
    "# import the class\n",
    "'''\n",
    "from sklearn.linear_model import LogisticRegression\n",
    "\n",
    "# instantiate the model (using the default parameters)\n",
    "logreg = LogisticRegression(random_state=42)\n",
    "\n",
    "# create the training and testing data\n",
    "df_child = df[(df['age_gp'] >=1) & (df['age_gp'] <=3)]\n",
    "df_child = df_child[['sex','age', 'religion','CL_incidence','IDHH']]\n",
    "\n",
    "# split the data for training and testing\n",
    "response = df_child['CL_incidence']\n",
    "feature = df_child.drop(columns=['CL_incidence','IDHH'])\n",
    "\n",
    "from sklearn.model_selection import train_test_split\n",
    "X_train, X_test, y_train, y_test = train_test_split(feature, response, test_size = 0.1)\n",
    "\n",
    "# fit the model with data\n",
    "logreg.fit(X_train, y_train)\n",
    "\n",
    "# evaluate the model\n",
    "from sklearn.model_selection import cross_val_score\n",
    "scores = cross_val_score(logreg, X_train, y_train, cv = 10)\n",
    "print(f'10-fold CV score: {scores.mean():.3f} +/- {scores.std():.3f}')\n",
    "print(f'The score on test data: {logreg.score(X_test, y_test)}')\n",
    "\n",
    "# Print the model result summary\n",
    "import statsmodels.api as sm\n",
    "logit_model=sm.Logit(y_train, X_train)\n",
    "result=logit_model.fit()\n",
    "print(result.summary())\n",
    "'''"
   ]
  },
  {
   "cell_type": "code",
   "execution_count": 41,
   "id": "0b3727e4",
   "metadata": {},
   "outputs": [
    {
     "data": {
      "text/plain": [
       "<AxesSubplot:>"
      ]
     },
     "execution_count": 41,
     "metadata": {},
     "output_type": "execute_result"
    },
    {
     "data": {
      "image/png": "[encoded data removed]",
      "text/plain": [
       "<Figure size 1800x1080 with 1 Axes>"
      ]
     },
     "metadata": {},
     "output_type": "display_data"
    }
   ],
   "source": [
    "# religion\n",
    "\n",
    "# Look into the data first (religion)\n",
    "df_child['religion'].value_counts().plot(kind='bar')"
   ]
  },
  {
   "cell_type": "code",
   "execution_count": 42,
   "id": "b8bbe44d",
   "metadata": {},
   "outputs": [
    {
     "data": {
      "text/plain": [
       "<AxesSubplot:xlabel='religion'>"
      ]
     },
     "execution_count": 42,
     "metadata": {},
     "output_type": "execute_result"
    },
    {
     "data": {
      "image/png": "[encoded data removed]",
      "text/plain": [
       "<Figure size 1800x1080 with 1 Axes>"
      ]
     },
     "metadata": {},
     "output_type": "display_data"
    }
   ],
   "source": [
    "df_child.groupby(['religion'])['CL_incidence'].mean().plot(kind='bar')"
   ]
  },
  {
   "cell_type": "code",
   "execution_count": 43,
   "id": "60d0d6c7",
   "metadata": {
    "scrolled": true
   },
   "outputs": [
    {
     "data": {
      "text/plain": [
       "Text(0.5, 1.0, 'Child Labour Incidence Rate of Different Religions for IHDS2012')"
      ]
     },
     "execution_count": 43,
     "metadata": {},
     "output_type": "execute_result"
    },
    {
     "data": {
      "image/png": "[encoded data removed]",
      "text/plain": [
       "<Figure size 1800x1080 with 1 Axes>"
      ]
     },
     "metadata": {},
     "output_type": "display_data"
    }
   ],
   "source": [
    "# EDA for interaction between religion and gender\n",
    "# Convert the table from long to wide format\n",
    "df_religion = df_child[['sex','religion','CL_incidence']]\n",
    "sns.set(rc={'figure.figsize':(25,15)})\n",
    "sns.set_context('paper',font_scale=1.8)\n",
    "myorder = ['Hindu 1', 'Muslim 2', 'Christian 3', 'Sikh 4', 'Buddhist 5', 'Jain 6', 'Tribal 7', 'Others 8', 'None 9']\n",
    "sns.barplot(data = df_religion, x= 'religion', y = 'CL_incidence', hue='sex', order = myorder, palette = \"tab10\").set_title('Child Labour Incidence Rate of Different Religions for IHDS2012', fontsize = 30)"
   ]
  },
  {
   "cell_type": "code",
   "execution_count": 44,
   "id": "bdc1a4e6",
   "metadata": {},
   "outputs": [
    {
     "data": {
      "text/plain": [
       "Hindu 1        40506\n",
       "Muslim 2        8187\n",
       "Christian 3     1145\n",
       "Sikh 4          1082\n",
       "Buddhist 5       245\n",
       "Tribal 7         213\n",
       "Jain 6            93\n",
       "Others 8          49\n",
       "None 9            13\n",
       "Name: religion, dtype: int64"
      ]
     },
     "execution_count": 44,
     "metadata": {},
     "output_type": "execute_result"
    }
   ],
   "source": [
    "df_child['religion'].value_counts()"
   ]
  },
  {
   "cell_type": "code",
   "execution_count": 45,
   "id": "e0a8f611",
   "metadata": {},
   "outputs": [],
   "source": [
    "#df_child['RELIGION_GP'].isna().sum()"
   ]
  },
  {
   "cell_type": "code",
   "execution_count": 46,
   "id": "4d69f62b",
   "metadata": {},
   "outputs": [],
   "source": [
    "# Religion\n",
    "def religion_gp(x): \n",
    "    if x == 'Hindu 1':\n",
    "        return 'Hindu'\n",
    "    elif x == 'Muslim 2':\n",
    "        return 'Muslim'\n",
    "    else:\n",
    "        return 'Others'\n",
    "    \n",
    "# apply religion_gp ON 'religion' to generate new variable 'RELIGION_GP'\n",
    "df_child['RELIGION_GP'] = df_child['religion'].apply(religion_gp)"
   ]
  },
  {
   "cell_type": "code",
   "execution_count": 47,
   "id": "bc730f3f",
   "metadata": {},
   "outputs": [],
   "source": [
    "# Create dummy variables for RELIGION_GP using pd.get_dummies\n",
    "# Create dummy variables for paternal occup w2\n",
    "dummies_religion = pd.get_dummies(df_child['RELIGION_GP']).rename(columns=lambda x: 'RELIGION_GP_' + str(x))\n",
    "df_child = pd.concat([df_child, dummies_religion], axis = 1)\n",
    "df_child.drop(['RELIGION_GP_Hindu'], inplace=True, axis=1)"
   ]
  },
  {
   "cell_type": "code",
   "execution_count": 48,
   "id": "2ee25d14",
   "metadata": {},
   "outputs": [
    {
     "data": {
      "text/plain": [
       "SURVEY                    0\n",
       "STATEID                   0\n",
       "DISTID                    0\n",
       "PSUID                     0\n",
       "HHID                      0\n",
       "HHSPLITID                 0\n",
       "PERSONID                  0\n",
       "IDPSU                     0\n",
       "IDHH                      0\n",
       "IDPERSON                  0\n",
       "WT                        0\n",
       "FWT                       0\n",
       "DIST01                    0\n",
       "DISTRICT                  0\n",
       "sex                       0\n",
       "relation_to_head          0\n",
       "age                       0\n",
       "mar_status                0\n",
       "activity_status           0\n",
       "spouse_id             51157\n",
       "father_id                 0\n",
       "mother_id                 0\n",
       "FM38                      0\n",
       "NF13                      0\n",
       "NF33                      0\n",
       "NF53                      0\n",
       "religion                  0\n",
       "occup                     0\n",
       "industry              49722\n",
       "wkhr_perday               0\n",
       "WKANY5                    0\n",
       "WKDAYS                    0\n",
       "NF1                       0\n",
       "NFBN21                    0\n",
       "NFBN41                    0\n",
       "total_wkhr_perday        23\n",
       "age_gp                    0\n",
       "total_wk_hr              23\n",
       "hazard                    0\n",
       "CL_incidence              0\n",
       "OCCUP_GP                  0\n",
       "unique_father_id          0\n",
       "unique_mother_id          0\n",
       "paternal_occup_w2      7067\n",
       "maternal_occup_w2      2773\n",
       "RELIGION_GP               0\n",
       "RELIGION_GP_Muslim        0\n",
       "RELIGION_GP_Others        0\n",
       "dtype: int64"
      ]
     },
     "execution_count": 48,
     "metadata": {},
     "output_type": "execute_result"
    }
   ],
   "source": [
    "df_child.isna().sum()"
   ]
  },
  {
   "cell_type": "code",
   "execution_count": 49,
   "id": "87a25713",
   "metadata": {
    "scrolled": false
   },
   "outputs": [
    {
     "name": "stderr",
     "output_type": "stream",
     "text": [
      "C:\\Users\\User\\anaconda3\\lib\\site-packages\\IPython\\core\\interactiveshell.py:3444: DtypeWarning: Columns (64,167,168,169,170,171,182,183,195,226,420,447,514,616,622,635,642,644,694) have mixed types.Specify dtype option on import or set low_memory=False.\n",
      "  exec(code_obj, self.user_global_ns, self.user_ns)\n"
     ]
    }
   ],
   "source": [
    "# merge with houshold dataset to get the household features\n",
    "# read the household dataset csv file\n",
    "df_hh = pd.read_csv(path + '/' + 'IHDS_2012_D0002_Household.csv')"
   ]
  },
  {
   "cell_type": "code",
   "execution_count": 50,
   "id": "65a82df9",
   "metadata": {},
   "outputs": [
    {
     "data": {
      "text/plain": [
       "Index(['SURVEY', 'STATEID', 'DISTID', 'PSUID', 'HHID', 'HHSPLITID', 'IDPSU',\n",
       "       'IDHH', 'WT', 'INDWT',\n",
       "       ...\n",
       "       'NWKANY5', 'INCNONAG', 'INCAGLAB', 'INCSALARY', 'INCNREGA',\n",
       "       'INCNONNREGA', 'NNR', 'HHEDUC', 'HHEDUCM', 'HHEDUCF'],\n",
       "      dtype='object', length=758)"
      ]
     },
     "execution_count": 50,
     "metadata": {},
     "output_type": "execute_result"
    }
   ],
   "source": [
    "df_hh.columns"
   ]
  },
  {
   "cell_type": "code",
   "execution_count": 51,
   "id": "6b1befd4",
   "metadata": {},
   "outputs": [],
   "source": [
    "selected_var = ['SURVEY', 'STATEID', 'DISTID', 'PSUID', 'HHID', 'HHSPLITID', \n",
    "       'IDPSU', 'IDHH', 'WT', 'FWT', 'DIST01', 'DISTRICT','NPERSONS','ID13',\n",
    "        'HHEDUC', 'POOR', 'COPC', 'SATOILET', 'WATER']\n",
    "df_hh = df_hh[selected_var]"
   ]
  },
  {
   "cell_type": "code",
   "execution_count": 52,
   "id": "03c07e94",
   "metadata": {},
   "outputs": [],
   "source": [
    "#df_hh.to_csv(path+'/'+ 'IHDS_2012_Household_selected_var.csv')"
   ]
  },
  {
   "cell_type": "code",
   "execution_count": 53,
   "id": "66aaf929",
   "metadata": {},
   "outputs": [
    {
     "name": "stdout",
     "output_type": "stream",
     "text": [
      "<class 'pandas.core.frame.DataFrame'>\n",
      "RangeIndex: 42152 entries, 0 to 42151\n",
      "Data columns (total 19 columns):\n",
      " #   Column     Non-Null Count  Dtype  \n",
      "---  ------     --------------  -----  \n",
      " 0   SURVEY     42152 non-null  object \n",
      " 1   STATEID    42152 non-null  object \n",
      " 2   DISTID     42152 non-null  int64  \n",
      " 3   PSUID      42152 non-null  int64  \n",
      " 4   HHID       42152 non-null  int64  \n",
      " 5   HHSPLITID  42152 non-null  int64  \n",
      " 6   IDPSU      42152 non-null  int64  \n",
      " 7   IDHH       42152 non-null  int64  \n",
      " 8   WT         42152 non-null  float64\n",
      " 9   FWT        42152 non-null  int64  \n",
      " 10  DIST01     42152 non-null  int64  \n",
      " 11  DISTRICT   42152 non-null  object \n",
      " 12  NPERSONS   42152 non-null  int64  \n",
      " 13  ID13       42066 non-null  object \n",
      " 14  HHEDUC     42141 non-null  object \n",
      " 15  POOR       42129 non-null  object \n",
      " 16  COPC       42129 non-null  float64\n",
      " 17  SATOILET   41978 non-null  object \n",
      " 18  WATER      41995 non-null  object \n",
      "dtypes: float64(2), int64(9), object(8)\n",
      "memory usage: 6.1+ MB\n"
     ]
    }
   ],
   "source": [
    "df_hh.info()"
   ]
  },
  {
   "cell_type": "code",
   "execution_count": 54,
   "id": "a1b7b96f",
   "metadata": {},
   "outputs": [],
   "source": [
    "#merge two datasets by using householdID\n",
    "df_merged = df_child.merge(df_hh, how='inner', on = 'IDHH')"
   ]
  },
  {
   "cell_type": "code",
   "execution_count": 55,
   "id": "5e0b767e",
   "metadata": {},
   "outputs": [],
   "source": [
    "df_merged.to_csv(path+'/'+'IHDS_2012_merged.csv')"
   ]
  },
  {
   "cell_type": "code",
   "execution_count": 56,
   "id": "1355c862",
   "metadata": {},
   "outputs": [],
   "source": [
    "df = df_merged"
   ]
  },
  {
   "cell_type": "code",
   "execution_count": 57,
   "id": "c7ec3eb8",
   "metadata": {},
   "outputs": [
    {
     "name": "stdout",
     "output_type": "stream",
     "text": [
      "<class 'pandas.core.frame.DataFrame'>\n",
      "Int64Index: 51533 entries, 0 to 51532\n",
      "Data columns (total 66 columns):\n",
      " #   Column              Non-Null Count  Dtype  \n",
      "---  ------              --------------  -----  \n",
      " 0   SURVEY_x            51533 non-null  object \n",
      " 1   STATEID_x           51533 non-null  object \n",
      " 2   DISTID_x            51533 non-null  int64  \n",
      " 3   PSUID_x             51533 non-null  int64  \n",
      " 4   HHID_x              51533 non-null  int64  \n",
      " 5   HHSPLITID_x         51533 non-null  int64  \n",
      " 6   PERSONID            51533 non-null  float64\n",
      " 7   IDPSU_x             51533 non-null  int64  \n",
      " 8   IDHH                51533 non-null  int64  \n",
      " 9   IDPERSON            51533 non-null  float64\n",
      " 10  WT_x                51533 non-null  float64\n",
      " 11  FWT_x               51533 non-null  float64\n",
      " 12  DIST01_x            51533 non-null  float64\n",
      " 13  DISTRICT_x          51533 non-null  object \n",
      " 14  sex                 51533 non-null  int64  \n",
      " 15  relation_to_head    51533 non-null  object \n",
      " 16  age                 51533 non-null  float64\n",
      " 17  mar_status          51533 non-null  object \n",
      " 18  activity_status     51533 non-null  object \n",
      " 19  spouse_id           376 non-null    object \n",
      " 20  father_id           51533 non-null  object \n",
      " 21  mother_id           51533 non-null  object \n",
      " 22  FM38                51533 non-null  float64\n",
      " 23  NF13                51533 non-null  float64\n",
      " 24  NF33                51533 non-null  float64\n",
      " 25  NF53                51533 non-null  float64\n",
      " 26  religion            51533 non-null  object \n",
      " 27  occup               51533 non-null  int64  \n",
      " 28  industry            1811 non-null   object \n",
      " 29  wkhr_perday         51533 non-null  float64\n",
      " 30  WKANY5              51533 non-null  object \n",
      " 31  WKDAYS              51533 non-null  float64\n",
      " 32  NF1                 51533 non-null  object \n",
      " 33  NFBN21              51533 non-null  object \n",
      " 34  NFBN41              51533 non-null  object \n",
      " 35  total_wkhr_perday   51510 non-null  float64\n",
      " 36  age_gp              51533 non-null  int64  \n",
      " 37  total_wk_hr         51510 non-null  float64\n",
      " 38  hazard              51533 non-null  int64  \n",
      " 39  CL_incidence        51533 non-null  int32  \n",
      " 40  OCCUP_GP            51533 non-null  object \n",
      " 41  unique_father_id    51533 non-null  int64  \n",
      " 42  unique_mother_id    51533 non-null  int64  \n",
      " 43  paternal_occup_w2   44466 non-null  object \n",
      " 44  maternal_occup_w2   48760 non-null  object \n",
      " 45  RELIGION_GP         51533 non-null  object \n",
      " 46  RELIGION_GP_Muslim  51533 non-null  uint8  \n",
      " 47  RELIGION_GP_Others  51533 non-null  uint8  \n",
      " 48  SURVEY_y            51533 non-null  object \n",
      " 49  STATEID_y           51533 non-null  object \n",
      " 50  DISTID_y            51533 non-null  int64  \n",
      " 51  PSUID_y             51533 non-null  int64  \n",
      " 52  HHID_y              51533 non-null  int64  \n",
      " 53  HHSPLITID_y         51533 non-null  int64  \n",
      " 54  IDPSU_y             51533 non-null  int64  \n",
      " 55  WT_y                51533 non-null  float64\n",
      " 56  FWT_y               51533 non-null  int64  \n",
      " 57  DIST01_y            51533 non-null  int64  \n",
      " 58  DISTRICT_y          51533 non-null  object \n",
      " 59  NPERSONS            51533 non-null  int64  \n",
      " 60  ID13                51457 non-null  object \n",
      " 61  HHEDUC              51528 non-null  object \n",
      " 62  POOR                51515 non-null  object \n",
      " 63  COPC                51515 non-null  float64\n",
      " 64  SATOILET            51377 non-null  object \n",
      " 65  WATER               51393 non-null  object \n",
      "dtypes: float64(16), int32(1), int64(20), object(27), uint8(2)\n",
      "memory usage: 25.5+ MB\n"
     ]
    }
   ],
   "source": [
    "df_merged.info()"
   ]
  },
  {
   "cell_type": "code",
   "execution_count": 58,
   "id": "4d658eae",
   "metadata": {},
   "outputs": [],
   "source": [
    "#Impute and Encode variables\n",
    "# WATER\n",
    "\n",
    "# remove all the space characters in water\n",
    "df['WATER'] = df['WATER'].replace(' ','')\n",
    "\n",
    "# remove all the string characters in water\n",
    "df['WATER'] = df['WATER'].str.replace('\\D','', regex = True)\n",
    "\n",
    "# impute NA with 0\n",
    "df['WATER'].fillna(method = 'bfill', inplace =True)"
   ]
  },
  {
   "cell_type": "code",
   "execution_count": 59,
   "id": "a17c7205",
   "metadata": {},
   "outputs": [
    {
     "data": {
      "text/plain": [
       "0"
      ]
     },
     "execution_count": 59,
     "metadata": {},
     "output_type": "execute_result"
    }
   ],
   "source": [
    "df['WATER'] = df['WATER'].astype(np.int64)\n",
    "df['WATER'].isna().sum()"
   ]
  },
  {
   "cell_type": "code",
   "execution_count": null,
   "id": "fc202388",
   "metadata": {},
   "outputs": [],
   "source": []
  },
  {
   "cell_type": "code",
   "execution_count": 60,
   "id": "e5f677a2",
   "metadata": {},
   "outputs": [],
   "source": [
    "# POOR\n",
    "\n",
    "# remove all the space characters in water\n",
    "df['POOR'] = df['POOR'].replace(' ','')\n",
    "\n",
    "# remove all the string characters in water\n",
    "df['POOR'] = df['POOR'].str.replace('\\D','', regex = True)\n",
    "\n",
    "# impute NA with backfill\n",
    "df['POOR'].fillna(method='bfill', inplace = True)"
   ]
  },
  {
   "cell_type": "code",
   "execution_count": 61,
   "id": "6021a268",
   "metadata": {},
   "outputs": [
    {
     "data": {
      "text/plain": [
       "0"
      ]
     },
     "execution_count": 61,
     "metadata": {},
     "output_type": "execute_result"
    }
   ],
   "source": [
    "df['POOR'] = df['POOR'].astype(np.int64)\n",
    "df['POOR'].isna().sum()"
   ]
  },
  {
   "cell_type": "code",
   "execution_count": 62,
   "id": "53a6ac27",
   "metadata": {},
   "outputs": [
    {
     "data": {
      "text/plain": [
       "0"
      ]
     },
     "execution_count": 62,
     "metadata": {},
     "output_type": "execute_result"
    }
   ],
   "source": [
    "df['COPC'].fillna(df['COPC'].mean(), inplace = True)\n",
    "df['COPC'].isna().sum()"
   ]
  },
  {
   "cell_type": "code",
   "execution_count": 63,
   "id": "02166737",
   "metadata": {},
   "outputs": [
    {
     "data": {
      "text/plain": [
       "1    21071\n",
       "2    14750\n",
       "0    12077\n",
       "3     3635\n",
       "Name: household_size, dtype: int64"
      ]
     },
     "execution_count": 63,
     "metadata": {},
     "output_type": "execute_result"
    }
   ],
   "source": [
    "# Household size\n",
    "\n",
    "# check for NA in NPERSONS\n",
    "df['NPERSONS'].isna().sum()\n",
    "\n",
    "# Converting household size into a variable with 4 groups\n",
    "# define hhsize function\n",
    "def hhsize(x):\n",
    "    if x <=4:\n",
    "        return 0\n",
    "    elif x>=5 and x <=6:\n",
    "        return 1\n",
    "    elif x>=7 and x <=10:\n",
    "        return 2\n",
    "    elif x>=10:\n",
    "        return 3\n",
    "    \n",
    "# apply hhsize_group function on df['age'] to create new column 'age_gp'\n",
    "df['household_size'] = df['NPERSONS'].apply(hhsize)\n",
    "\n",
    "# check for df['household_size']\n",
    "df['household_size'].value_counts()"
   ]
  },
  {
   "cell_type": "code",
   "execution_count": null,
   "id": "d258a27f",
   "metadata": {},
   "outputs": [],
   "source": []
  },
  {
   "cell_type": "code",
   "execution_count": 64,
   "id": "7191ec5c",
   "metadata": {
    "scrolled": true
   },
   "outputs": [
    {
     "name": "stdout",
     "output_type": "stream",
     "text": [
      "<class 'pandas.core.frame.DataFrame'>\n",
      "Int64Index: 51533 entries, 0 to 51532\n",
      "Data columns (total 67 columns):\n",
      " #   Column              Non-Null Count  Dtype  \n",
      "---  ------              --------------  -----  \n",
      " 0   SURVEY_x            51533 non-null  object \n",
      " 1   STATEID_x           51533 non-null  object \n",
      " 2   DISTID_x            51533 non-null  int64  \n",
      " 3   PSUID_x             51533 non-null  int64  \n",
      " 4   HHID_x              51533 non-null  int64  \n",
      " 5   HHSPLITID_x         51533 non-null  int64  \n",
      " 6   PERSONID            51533 non-null  float64\n",
      " 7   IDPSU_x             51533 non-null  int64  \n",
      " 8   IDHH                51533 non-null  int64  \n",
      " 9   IDPERSON            51533 non-null  float64\n",
      " 10  WT_x                51533 non-null  float64\n",
      " 11  FWT_x               51533 non-null  float64\n",
      " 12  DIST01_x            51533 non-null  float64\n",
      " 13  DISTRICT_x          51533 non-null  object \n",
      " 14  sex                 51533 non-null  int64  \n",
      " 15  relation_to_head    51533 non-null  object \n",
      " 16  age                 51533 non-null  float64\n",
      " 17  mar_status          51533 non-null  object \n",
      " 18  activity_status     51533 non-null  object \n",
      " 19  spouse_id           376 non-null    object \n",
      " 20  father_id           51533 non-null  object \n",
      " 21  mother_id           51533 non-null  object \n",
      " 22  FM38                51533 non-null  float64\n",
      " 23  NF13                51533 non-null  float64\n",
      " 24  NF33                51533 non-null  float64\n",
      " 25  NF53                51533 non-null  float64\n",
      " 26  religion            51533 non-null  object \n",
      " 27  occup               51533 non-null  int64  \n",
      " 28  industry            1811 non-null   object \n",
      " 29  wkhr_perday         51533 non-null  float64\n",
      " 30  WKANY5              51533 non-null  object \n",
      " 31  WKDAYS              51533 non-null  float64\n",
      " 32  NF1                 51533 non-null  object \n",
      " 33  NFBN21              51533 non-null  object \n",
      " 34  NFBN41              51533 non-null  object \n",
      " 35  total_wkhr_perday   51510 non-null  float64\n",
      " 36  age_gp              51533 non-null  int64  \n",
      " 37  total_wk_hr         51510 non-null  float64\n",
      " 38  hazard              51533 non-null  int64  \n",
      " 39  CL_incidence        51533 non-null  int32  \n",
      " 40  OCCUP_GP            51533 non-null  object \n",
      " 41  unique_father_id    51533 non-null  int64  \n",
      " 42  unique_mother_id    51533 non-null  int64  \n",
      " 43  paternal_occup_w2   44466 non-null  object \n",
      " 44  maternal_occup_w2   48760 non-null  object \n",
      " 45  RELIGION_GP         51533 non-null  object \n",
      " 46  RELIGION_GP_Muslim  51533 non-null  uint8  \n",
      " 47  RELIGION_GP_Others  51533 non-null  uint8  \n",
      " 48  SURVEY_y            51533 non-null  object \n",
      " 49  STATEID_y           51533 non-null  object \n",
      " 50  DISTID_y            51533 non-null  int64  \n",
      " 51  PSUID_y             51533 non-null  int64  \n",
      " 52  HHID_y              51533 non-null  int64  \n",
      " 53  HHSPLITID_y         51533 non-null  int64  \n",
      " 54  IDPSU_y             51533 non-null  int64  \n",
      " 55  WT_y                51533 non-null  float64\n",
      " 56  FWT_y               51533 non-null  int64  \n",
      " 57  DIST01_y            51533 non-null  int64  \n",
      " 58  DISTRICT_y          51533 non-null  object \n",
      " 59  NPERSONS            51533 non-null  int64  \n",
      " 60  ID13                51457 non-null  object \n",
      " 61  HHEDUC              51528 non-null  object \n",
      " 62  POOR                51533 non-null  int64  \n",
      " 63  COPC                51533 non-null  float64\n",
      " 64  SATOILET            51377 non-null  object \n",
      " 65  WATER               51533 non-null  int64  \n",
      " 66  household_size      51533 non-null  int64  \n",
      "dtypes: float64(16), int32(1), int64(23), object(25), uint8(2)\n",
      "memory usage: 25.9+ MB\n"
     ]
    }
   ],
   "source": [
    "df.info()"
   ]
  },
  {
   "cell_type": "code",
   "execution_count": 65,
   "id": "3dd1e8f1",
   "metadata": {},
   "outputs": [],
   "source": [
    "# Educational level of parents\n",
    "# check for the values of hheduc in df\n",
    "df['HHEDUC'].value_counts()\n",
    "\n",
    "# Converting household size into a variable with 4 groups\n",
    "# define hhsize function\n",
    "def educ_level(x):\n",
    "    list1 = ['1st class 1', '2nd class 2', '3rd class 3', '4th class 4', '5th class 5', '6th class 6']\n",
    "    list2 = ['7th class 7', '8th class 8', '9th class 9']\n",
    "    list3 = ['Secondary 10', '11th Class 11', 'High Secondary 12']\n",
    "    if x == 'none 0':\n",
    "        return 0\n",
    "    elif x in list1:\n",
    "        return 1\n",
    "    elif x in list2:\n",
    "        return 2\n",
    "    elif x in list3:\n",
    "        return 3\n",
    "    else:\n",
    "        return 4\n",
    "    \n",
    "# apply hhsize_group function on df['HHEDUC'] to create new column 'PARENT_EDUC'\n",
    "df['PARENT_EDUC'] = df['HHEDUC'].apply(educ_level)"
   ]
  },
  {
   "cell_type": "code",
   "execution_count": 66,
   "id": "6fae3799",
   "metadata": {},
   "outputs": [],
   "source": [
    "# POOR contributes more to the predicatability of the model (0.8913) than COPC does (-5.291*10^-5), therefore COPC will be dropped\n",
    "df.drop(columns = 'COPC', inplace = True)\n"
   ]
  },
  {
   "cell_type": "code",
   "execution_count": 67,
   "id": "bfb04b3d",
   "metadata": {},
   "outputs": [],
   "source": [
    "# SATOILET\n",
    "\n",
    "# remove all the space characters in water\n",
    "df['SATOILET'] = df['SATOILET'].replace(' ','')\n",
    "\n",
    "# remove all the string characters in water\n",
    "df['SATOILET'] = df['SATOILET'].str.replace('\\D','', regex = True)\n",
    "\n",
    "# check for NA\n",
    "df['SATOILET'].isna().sum()\n",
    "\n",
    "# impute missing values using backfill function\n",
    "df['SATOILET'].fillna(method='bfill', inplace = True)\n",
    "\n",
    "# convert the dtype of SATOILET to int64\n",
    "df['SATOILET'] = df['SATOILET'].astype(np.int64)"
   ]
  },
  {
   "cell_type": "code",
   "execution_count": 68,
   "id": "379e646e",
   "metadata": {},
   "outputs": [
    {
     "data": {
      "text/plain": [
       "Other Backward Castes (OBC) 3         21830\n",
       "Scheduled Castes (SC) 4               11501\n",
       "Forward/General (except Brahmin) 2    10756\n",
       "Scheduled Tribes (ST) 5                4552\n",
       "Brahmin 1                              2285\n",
       "Others 6                                533\n",
       "Name: ID13, dtype: int64"
      ]
     },
     "execution_count": 68,
     "metadata": {},
     "output_type": "execute_result"
    }
   ],
   "source": [
    "df['ID13'].value_counts()"
   ]
  },
  {
   "cell_type": "code",
   "execution_count": 69,
   "id": "5b42117b",
   "metadata": {},
   "outputs": [
    {
     "data": {
      "text/plain": [
       "<AxesSubplot:>"
      ]
     },
     "execution_count": 69,
     "metadata": {},
     "output_type": "execute_result"
    },
    {
     "data": {
      "image/png": "[encoded data removed]",
      "text/plain": [
       "<Figure size 1800x1080 with 1 Axes>"
      ]
     },
     "metadata": {},
     "output_type": "display_data"
    }
   ],
   "source": [
    "# Social group\n",
    "\n",
    "# Look into the data first (id13)\n",
    "df['ID13'].value_counts().plot(kind='bar')\n"
   ]
  },
  {
   "cell_type": "code",
   "execution_count": 70,
   "id": "6015e463",
   "metadata": {},
   "outputs": [
    {
     "data": {
      "text/plain": [
       "<AxesSubplot:xlabel='ID13'>"
      ]
     },
     "execution_count": 70,
     "metadata": {},
     "output_type": "execute_result"
    },
    {
     "data": {
      "image/png": "[encoded data removed]",
      "text/plain": [
       "<Figure size 1800x1080 with 1 Axes>"
      ]
     },
     "metadata": {},
     "output_type": "display_data"
    }
   ],
   "source": [
    "# Visualise the CL incidence rate for each social group (castes)\n",
    "df.groupby(['ID13'])['CL_incidence'].mean().plot(kind='bar')"
   ]
  },
  {
   "cell_type": "code",
   "execution_count": 71,
   "id": "9f42394a",
   "metadata": {},
   "outputs": [],
   "source": [
    "# Impute NA in social group using backfill function\n",
    "df['ID13'].fillna(method = 'bfill', inplace =True)"
   ]
  },
  {
   "cell_type": "code",
   "execution_count": 72,
   "id": "fecba401",
   "metadata": {},
   "outputs": [],
   "source": [
    "# Social Group\n",
    "def social_gp(x):\n",
    "    list1 = ['Scheduled Castes (SC) 4', 'Scheduled Tribes (ST) 5', 'Others 6']  \n",
    "    if x == 'Brahmin 1':\n",
    "        return 'Brahmin'\n",
    "    elif x == 'Forward/General (except Brahmin) 2':\n",
    "        return 'Forward/General (except Brahmin)'\n",
    "    elif x == 'Other Backward Castes (OBC) 3':\n",
    "        return 'Other Backward Castes (OBC)'\n",
    "    else:\n",
    "        return 'Scheduled Castes, Scheduled Tribes or Others'\n",
    "\n",
    "# apply scoial_gp on df['ID13'] to generate new column 'social group'\n",
    "df['SOCIAL_GP'] = df['ID13'].apply(social_gp)"
   ]
  },
  {
   "cell_type": "code",
   "execution_count": 73,
   "id": "0fa4db09",
   "metadata": {},
   "outputs": [],
   "source": [
    "# Use one hot encoding to generate dummy variables for social group\n",
    "dummies_social = pd.get_dummies(df['SOCIAL_GP']).rename(columns=lambda x: 'SOCIAL_GP_' + str(x))\n",
    "df = pd.concat([df, dummies_social], axis = 1)\n",
    "df.drop(['SOCIAL_GP_Brahmin'], inplace=True, axis=1)"
   ]
  },
  {
   "cell_type": "code",
   "execution_count": 75,
   "id": "7a9da60f",
   "metadata": {
    "scrolled": true
   },
   "outputs": [
    {
     "name": "stdout",
     "output_type": "stream",
     "text": [
      "<class 'pandas.core.frame.DataFrame'>\n",
      "Int64Index: 51533 entries, 0 to 51532\n",
      "Data columns (total 71 columns):\n",
      " #   Column                                                  Non-Null Count  Dtype  \n",
      "---  ------                                                  --------------  -----  \n",
      " 0   SURVEY_x                                                51533 non-null  object \n",
      " 1   STATEID_x                                               51533 non-null  object \n",
      " 2   DISTID_x                                                51533 non-null  int64  \n",
      " 3   PSUID_x                                                 51533 non-null  int64  \n",
      " 4   HHID_x                                                  51533 non-null  int64  \n",
      " 5   HHSPLITID_x                                             51533 non-null  int64  \n",
      " 6   PERSONID                                                51533 non-null  float64\n",
      " 7   IDPSU_x                                                 51533 non-null  int64  \n",
      " 8   IDHH                                                    51533 non-null  int64  \n",
      " 9   IDPERSON                                                51533 non-null  float64\n",
      " 10  WT_x                                                    51533 non-null  float64\n",
      " 11  FWT_x                                                   51533 non-null  float64\n",
      " 12  DIST01_x                                                51533 non-null  float64\n",
      " 13  DISTRICT_x                                              51533 non-null  object \n",
      " 14  sex                                                     51533 non-null  int64  \n",
      " 15  relation_to_head                                        51533 non-null  object \n",
      " 16  age                                                     51533 non-null  float64\n",
      " 17  mar_status                                              51533 non-null  object \n",
      " 18  activity_status                                         51533 non-null  object \n",
      " 19  spouse_id                                               376 non-null    object \n",
      " 20  father_id                                               51533 non-null  object \n",
      " 21  mother_id                                               51533 non-null  object \n",
      " 22  FM38                                                    51533 non-null  float64\n",
      " 23  NF13                                                    51533 non-null  float64\n",
      " 24  NF33                                                    51533 non-null  float64\n",
      " 25  NF53                                                    51533 non-null  float64\n",
      " 26  religion                                                51533 non-null  object \n",
      " 27  occup                                                   51533 non-null  int64  \n",
      " 28  industry                                                1811 non-null   object \n",
      " 29  wkhr_perday                                             51533 non-null  float64\n",
      " 30  WKANY5                                                  51533 non-null  object \n",
      " 31  WKDAYS                                                  51533 non-null  float64\n",
      " 32  NF1                                                     51533 non-null  object \n",
      " 33  NFBN21                                                  51533 non-null  object \n",
      " 34  NFBN41                                                  51533 non-null  object \n",
      " 35  total_wkhr_perday                                       51510 non-null  float64\n",
      " 36  age_gp                                                  51533 non-null  int64  \n",
      " 37  total_wk_hr                                             51510 non-null  float64\n",
      " 38  hazard                                                  51533 non-null  int64  \n",
      " 39  CL_incidence                                            51533 non-null  int32  \n",
      " 40  OCCUP_GP                                                51533 non-null  object \n",
      " 41  unique_father_id                                        51533 non-null  int64  \n",
      " 42  unique_mother_id                                        51533 non-null  int64  \n",
      " 43  paternal_occup_w2                                       44466 non-null  object \n",
      " 44  maternal_occup_w2                                       48760 non-null  object \n",
      " 45  RELIGION_GP                                             51533 non-null  object \n",
      " 46  RELIGION_GP_Muslim                                      51533 non-null  uint8  \n",
      " 47  RELIGION_GP_Others                                      51533 non-null  uint8  \n",
      " 48  SURVEY_y                                                51533 non-null  object \n",
      " 49  STATEID_y                                               51533 non-null  object \n",
      " 50  DISTID_y                                                51533 non-null  int64  \n",
      " 51  PSUID_y                                                 51533 non-null  int64  \n",
      " 52  HHID_y                                                  51533 non-null  int64  \n",
      " 53  HHSPLITID_y                                             51533 non-null  int64  \n",
      " 54  IDPSU_y                                                 51533 non-null  int64  \n",
      " 55  WT_y                                                    51533 non-null  float64\n",
      " 56  FWT_y                                                   51533 non-null  int64  \n",
      " 57  DIST01_y                                                51533 non-null  int64  \n",
      " 58  DISTRICT_y                                              51533 non-null  object \n",
      " 59  NPERSONS                                                51533 non-null  int64  \n",
      " 60  ID13                                                    51533 non-null  object \n",
      " 61  HHEDUC                                                  51528 non-null  object \n",
      " 62  POOR                                                    51533 non-null  int64  \n",
      " 63  SATOILET                                                51533 non-null  int64  \n",
      " 64  WATER                                                   51533 non-null  int64  \n",
      " 65  household_size                                          51533 non-null  int64  \n",
      " 66  PARENT_EDUC                                             51533 non-null  int64  \n",
      " 67  SOCIAL_GP                                               51533 non-null  object \n",
      " 68  SOCIAL_GP_Forward/General (except Brahmin)              51533 non-null  uint8  \n",
      " 69  SOCIAL_GP_Other Backward Castes (OBC)                   51533 non-null  uint8  \n",
      " 70  SOCIAL_GP_Scheduled Castes, Scheduled Tribes or Others  51533 non-null  uint8  \n",
      "dtypes: float64(15), int32(1), int64(25), object(25), uint8(5)\n",
      "memory usage: 26.4+ MB\n"
     ]
    }
   ],
   "source": [
    "df.info()"
   ]
  },
  {
   "cell_type": "code",
   "execution_count": 79,
   "id": "2b5f525c",
   "metadata": {},
   "outputs": [],
   "source": [
    "# Create dummy variables for paternal occup w2\n",
    "dummies_pat = pd.get_dummies(df['paternal_occup_w2']).rename(columns=lambda x: 'paternal_occup_w2_' + str(x))\n",
    "df = pd.concat([df, dummies_pat], axis = 1)\n",
    "df.drop(['paternal_occup_w2_Construction, Production & Labour'], inplace=True, axis=1)"
   ]
  },
  {
   "cell_type": "code",
   "execution_count": 81,
   "id": "331c5b4d",
   "metadata": {},
   "outputs": [],
   "source": [
    "# Create dummy variables for maternal occup w2\n",
    "dummies_mat = pd.get_dummies(df['maternal_occup_w2']).rename(columns=lambda x: 'maternal_occup_w2_' + str(x))\n",
    "df = pd.concat([df, dummies_mat], axis = 1)\n",
    "df.drop(['maternal_occup_w2_Construction, Production & Labour'], inplace=True, axis=1)"
   ]
  },
  {
   "cell_type": "code",
   "execution_count": 82,
   "id": "cb7c03ab",
   "metadata": {},
   "outputs": [],
   "source": [
    "# save as cleaned df_child with parental occup in wave 2\n",
    "df.to_csv(path+'/'+'IHDS_2012_cleaned_df_child_2023_07_10_v2.csv')"
   ]
  },
  {
   "cell_type": "code",
   "execution_count": 83,
   "id": "780d3d3e",
   "metadata": {},
   "outputs": [
    {
     "data": {
      "text/html": [
       "<div>\n",
       "<style scoped>\n",
       "    .dataframe tbody tr th:only-of-type {\n",
       "        vertical-align: middle;\n",
       "    }\n",
       "\n",
       "    .dataframe tbody tr th {\n",
       "        vertical-align: top;\n",
       "    }\n",
       "\n",
       "    .dataframe thead th {\n",
       "        text-align: right;\n",
       "    }\n",
       "</style>\n",
       "<table border=\"1\" class=\"dataframe\">\n",
       "  <thead>\n",
       "    <tr style=\"text-align: right;\">\n",
       "      <th></th>\n",
       "      <th>SURVEY_x</th>\n",
       "      <th>STATEID_x</th>\n",
       "      <th>DISTID_x</th>\n",
       "      <th>PSUID_x</th>\n",
       "      <th>HHID_x</th>\n",
       "      <th>HHSPLITID_x</th>\n",
       "      <th>PERSONID</th>\n",
       "      <th>IDPSU_x</th>\n",
       "      <th>IDHH</th>\n",
       "      <th>IDPERSON</th>\n",
       "      <th>...</th>\n",
       "      <th>paternal_occup_w2_Farmers, Fishermen &amp; Hunters</th>\n",
       "      <th>paternal_occup_w2_Others</th>\n",
       "      <th>paternal_occup_w2_Professional &amp; Managerial</th>\n",
       "      <th>paternal_occup_w2_Sales workers</th>\n",
       "      <th>paternal_occup_w2_Service &amp; Clerical</th>\n",
       "      <th>maternal_occup_w2_Farmers, Fishermen &amp; Hunters</th>\n",
       "      <th>maternal_occup_w2_Others</th>\n",
       "      <th>maternal_occup_w2_Professional &amp; Managerial</th>\n",
       "      <th>maternal_occup_w2_Sales workers</th>\n",
       "      <th>maternal_occup_w2_Service &amp; Clerical</th>\n",
       "    </tr>\n",
       "  </thead>\n",
       "  <tbody>\n",
       "    <tr>\n",
       "      <th>0</th>\n",
       "      <td>IHDS-II 2</td>\n",
       "      <td>Jammu &amp; Kashmir 01</td>\n",
       "      <td>2</td>\n",
       "      <td>1</td>\n",
       "      <td>10</td>\n",
       "      <td>1</td>\n",
       "      <td>4.0</td>\n",
       "      <td>10201</td>\n",
       "      <td>102010101</td>\n",
       "      <td>1.020101e+10</td>\n",
       "      <td>...</td>\n",
       "      <td>0</td>\n",
       "      <td>0</td>\n",
       "      <td>0</td>\n",
       "      <td>0</td>\n",
       "      <td>0</td>\n",
       "      <td>0</td>\n",
       "      <td>1</td>\n",
       "      <td>0</td>\n",
       "      <td>0</td>\n",
       "      <td>0</td>\n",
       "    </tr>\n",
       "    <tr>\n",
       "      <th>1</th>\n",
       "      <td>IHDS-II 2</td>\n",
       "      <td>Jammu &amp; Kashmir 01</td>\n",
       "      <td>2</td>\n",
       "      <td>1</td>\n",
       "      <td>10</td>\n",
       "      <td>1</td>\n",
       "      <td>7.0</td>\n",
       "      <td>10201</td>\n",
       "      <td>102010101</td>\n",
       "      <td>1.020101e+10</td>\n",
       "      <td>...</td>\n",
       "      <td>0</td>\n",
       "      <td>0</td>\n",
       "      <td>0</td>\n",
       "      <td>0</td>\n",
       "      <td>0</td>\n",
       "      <td>0</td>\n",
       "      <td>1</td>\n",
       "      <td>0</td>\n",
       "      <td>0</td>\n",
       "      <td>0</td>\n",
       "    </tr>\n",
       "    <tr>\n",
       "      <th>2</th>\n",
       "      <td>IHDS-II 2</td>\n",
       "      <td>Jammu &amp; Kashmir 01</td>\n",
       "      <td>2</td>\n",
       "      <td>1</td>\n",
       "      <td>20</td>\n",
       "      <td>1</td>\n",
       "      <td>6.0</td>\n",
       "      <td>10201</td>\n",
       "      <td>102010201</td>\n",
       "      <td>1.020102e+10</td>\n",
       "      <td>...</td>\n",
       "      <td>0</td>\n",
       "      <td>0</td>\n",
       "      <td>1</td>\n",
       "      <td>0</td>\n",
       "      <td>0</td>\n",
       "      <td>0</td>\n",
       "      <td>1</td>\n",
       "      <td>0</td>\n",
       "      <td>0</td>\n",
       "      <td>0</td>\n",
       "    </tr>\n",
       "    <tr>\n",
       "      <th>3</th>\n",
       "      <td>IHDS-II 2</td>\n",
       "      <td>Jammu &amp; Kashmir 01</td>\n",
       "      <td>2</td>\n",
       "      <td>1</td>\n",
       "      <td>20</td>\n",
       "      <td>1</td>\n",
       "      <td>9.0</td>\n",
       "      <td>10201</td>\n",
       "      <td>102010201</td>\n",
       "      <td>1.020102e+10</td>\n",
       "      <td>...</td>\n",
       "      <td>0</td>\n",
       "      <td>0</td>\n",
       "      <td>1</td>\n",
       "      <td>0</td>\n",
       "      <td>0</td>\n",
       "      <td>0</td>\n",
       "      <td>0</td>\n",
       "      <td>1</td>\n",
       "      <td>0</td>\n",
       "      <td>0</td>\n",
       "    </tr>\n",
       "    <tr>\n",
       "      <th>4</th>\n",
       "      <td>IHDS-II 2</td>\n",
       "      <td>Jammu &amp; Kashmir 01</td>\n",
       "      <td>2</td>\n",
       "      <td>1</td>\n",
       "      <td>20</td>\n",
       "      <td>1</td>\n",
       "      <td>10.0</td>\n",
       "      <td>10201</td>\n",
       "      <td>102010201</td>\n",
       "      <td>1.020102e+10</td>\n",
       "      <td>...</td>\n",
       "      <td>0</td>\n",
       "      <td>0</td>\n",
       "      <td>1</td>\n",
       "      <td>0</td>\n",
       "      <td>0</td>\n",
       "      <td>0</td>\n",
       "      <td>0</td>\n",
       "      <td>1</td>\n",
       "      <td>0</td>\n",
       "      <td>0</td>\n",
       "    </tr>\n",
       "  </tbody>\n",
       "</table>\n",
       "<p>5 rows × 81 columns</p>\n",
       "</div>"
      ],
      "text/plain": [
       "    SURVEY_x           STATEID_x  DISTID_x  PSUID_x  HHID_x  HHSPLITID_x  \\\n",
       "0  IHDS-II 2  Jammu & Kashmir 01         2        1      10            1   \n",
       "1  IHDS-II 2  Jammu & Kashmir 01         2        1      10            1   \n",
       "2  IHDS-II 2  Jammu & Kashmir 01         2        1      20            1   \n",
       "3  IHDS-II 2  Jammu & Kashmir 01         2        1      20            1   \n",
       "4  IHDS-II 2  Jammu & Kashmir 01         2        1      20            1   \n",
       "\n",
       "   PERSONID  IDPSU_x       IDHH      IDPERSON  ...  \\\n",
       "0       4.0    10201  102010101  1.020101e+10  ...   \n",
       "1       7.0    10201  102010101  1.020101e+10  ...   \n",
       "2       6.0    10201  102010201  1.020102e+10  ...   \n",
       "3       9.0    10201  102010201  1.020102e+10  ...   \n",
       "4      10.0    10201  102010201  1.020102e+10  ...   \n",
       "\n",
       "   paternal_occup_w2_Farmers, Fishermen & Hunters  paternal_occup_w2_Others  \\\n",
       "0                                               0                         0   \n",
       "1                                               0                         0   \n",
       "2                                               0                         0   \n",
       "3                                               0                         0   \n",
       "4                                               0                         0   \n",
       "\n",
       "   paternal_occup_w2_Professional & Managerial  \\\n",
       "0                                            0   \n",
       "1                                            0   \n",
       "2                                            1   \n",
       "3                                            1   \n",
       "4                                            1   \n",
       "\n",
       "  paternal_occup_w2_Sales workers  paternal_occup_w2_Service & Clerical  \\\n",
       "0                               0                                     0   \n",
       "1                               0                                     0   \n",
       "2                               0                                     0   \n",
       "3                               0                                     0   \n",
       "4                               0                                     0   \n",
       "\n",
       "  maternal_occup_w2_Farmers, Fishermen & Hunters  maternal_occup_w2_Others  \\\n",
       "0                                              0                         1   \n",
       "1                                              0                         1   \n",
       "2                                              0                         1   \n",
       "3                                              0                         0   \n",
       "4                                              0                         0   \n",
       "\n",
       "  maternal_occup_w2_Professional & Managerial maternal_occup_w2_Sales workers  \\\n",
       "0                                           0                               0   \n",
       "1                                           0                               0   \n",
       "2                                           0                               0   \n",
       "3                                           1                               0   \n",
       "4                                           1                               0   \n",
       "\n",
       "  maternal_occup_w2_Service & Clerical  \n",
       "0                                    0  \n",
       "1                                    0  \n",
       "2                                    0  \n",
       "3                                    0  \n",
       "4                                    0  \n",
       "\n",
       "[5 rows x 81 columns]"
      ]
     },
     "execution_count": 83,
     "metadata": {},
     "output_type": "execute_result"
    }
   ],
   "source": [
    "df.head()"
   ]
  },
  {
   "cell_type": "code",
   "execution_count": null,
   "id": "3df00b07",
   "metadata": {},
   "outputs": [],
   "source": [
    "# Impute paternal and maternal occup w2\n",
    "# there are 7067 missing values in paternal occup w2, 2773 missing values in maternal occup w2, keep these NA or not?\n",
    "#df['paternal_occup_w2'].fillna('Others',inplace = True)\n",
    "#df['maternal_occup_w2'].fillna('Others',inplace = True)"
   ]
  },
  {
   "cell_type": "markdown",
   "id": "5ba440ba",
   "metadata": {},
   "source": [
    "# Logistic Regression using IHDS2012 data"
   ]
  },
  {
   "cell_type": "markdown",
   "id": "9559c02f",
   "metadata": {},
   "source": [
    "# Model 1: without parental occupations"
   ]
  },
  {
   "cell_type": "code",
   "execution_count": 88,
   "id": "772eb062",
   "metadata": {
    "scrolled": false
   },
   "outputs": [
    {
     "name": "stderr",
     "output_type": "stream",
     "text": [
      "C:\\Users\\User\\anaconda3\\lib\\site-packages\\sklearn\\linear_model\\_logistic.py:458: ConvergenceWarning: lbfgs failed to converge (status=1):\n",
      "STOP: TOTAL NO. of ITERATIONS REACHED LIMIT.\n",
      "\n",
      "Increase the number of iterations (max_iter) or scale the data as shown in:\n",
      "    https://scikit-learn.org/stable/modules/preprocessing.html\n",
      "Please also refer to the documentation for alternative solver options:\n",
      "    https://scikit-learn.org/stable/modules/linear_model.html#logistic-regression\n",
      "  n_iter_i = _check_optimize_result(\n",
      "C:\\Users\\User\\anaconda3\\lib\\site-packages\\sklearn\\linear_model\\_logistic.py:458: ConvergenceWarning: lbfgs failed to converge (status=1):\n",
      "STOP: TOTAL NO. of ITERATIONS REACHED LIMIT.\n",
      "\n",
      "Increase the number of iterations (max_iter) or scale the data as shown in:\n",
      "    https://scikit-learn.org/stable/modules/preprocessing.html\n",
      "Please also refer to the documentation for alternative solver options:\n",
      "    https://scikit-learn.org/stable/modules/linear_model.html#logistic-regression\n",
      "  n_iter_i = _check_optimize_result(\n",
      "C:\\Users\\User\\anaconda3\\lib\\site-packages\\sklearn\\linear_model\\_logistic.py:458: ConvergenceWarning: lbfgs failed to converge (status=1):\n",
      "STOP: TOTAL NO. of ITERATIONS REACHED LIMIT.\n",
      "\n",
      "Increase the number of iterations (max_iter) or scale the data as shown in:\n",
      "    https://scikit-learn.org/stable/modules/preprocessing.html\n",
      "Please also refer to the documentation for alternative solver options:\n",
      "    https://scikit-learn.org/stable/modules/linear_model.html#logistic-regression\n",
      "  n_iter_i = _check_optimize_result(\n",
      "C:\\Users\\User\\anaconda3\\lib\\site-packages\\sklearn\\linear_model\\_logistic.py:458: ConvergenceWarning: lbfgs failed to converge (status=1):\n",
      "STOP: TOTAL NO. of ITERATIONS REACHED LIMIT.\n",
      "\n",
      "Increase the number of iterations (max_iter) or scale the data as shown in:\n",
      "    https://scikit-learn.org/stable/modules/preprocessing.html\n",
      "Please also refer to the documentation for alternative solver options:\n",
      "    https://scikit-learn.org/stable/modules/linear_model.html#logistic-regression\n",
      "  n_iter_i = _check_optimize_result(\n",
      "C:\\Users\\User\\anaconda3\\lib\\site-packages\\sklearn\\linear_model\\_logistic.py:458: ConvergenceWarning: lbfgs failed to converge (status=1):\n",
      "STOP: TOTAL NO. of ITERATIONS REACHED LIMIT.\n",
      "\n",
      "Increase the number of iterations (max_iter) or scale the data as shown in:\n",
      "    https://scikit-learn.org/stable/modules/preprocessing.html\n",
      "Please also refer to the documentation for alternative solver options:\n",
      "    https://scikit-learn.org/stable/modules/linear_model.html#logistic-regression\n",
      "  n_iter_i = _check_optimize_result(\n"
     ]
    },
    {
     "name": "stdout",
     "output_type": "stream",
     "text": [
      "10-fold CV score: 0.909 +/- 0.000\n",
      "The score on test data: 0.9082266201008925\n",
      "Optimization terminated successfully.\n",
      "         Current function value: 0.282505\n",
      "         Iterations 7\n",
      "                           Logit Regression Results                           \n",
      "==============================================================================\n",
      "Dep. Variable:           CL_incidence   No. Observations:                46379\n",
      "Model:                          Logit   Df Residuals:                    46368\n",
      "Method:                           MLE   Df Model:                           10\n",
      "Date:                Mon, 10 Jul 2023   Pseudo R-squ.:                 0.07124\n",
      "Time:                        16:50:06   Log-Likelihood:                -13102.\n",
      "converged:                       True   LL-Null:                       -14107.\n",
      "Covariance Type:            nonrobust   LLR p-value:                     0.000\n",
      "==========================================================================================================================\n",
      "                                                             coef    std err          z      P>|z|      [0.025      0.975]\n",
      "--------------------------------------------------------------------------------------------------------------------------\n",
      "sex                                                       -0.5387      0.033    -16.277      0.000      -0.604      -0.474\n",
      "age                                                        0.0809      0.004     22.114      0.000       0.074       0.088\n",
      "POOR                                                      -0.1455      0.037     -3.931      0.000      -0.218      -0.073\n",
      "WATER                                                     -0.5955      0.048    -12.328      0.000      -0.690      -0.501\n",
      "SATOILET                                                  -0.9257      0.048    -19.289      0.000      -1.020      -0.832\n",
      "PARENT_EDUC                                               -0.4625      0.014    -33.943      0.000      -0.489      -0.436\n",
      "RELIGION_GP_Muslim                                        -0.2143      0.052     -4.099      0.000      -0.317      -0.112\n",
      "RELIGION_GP_Others                                        -0.1397      0.089     -1.571      0.116      -0.314       0.035\n",
      "SOCIAL_GP_Forward/General (except Brahmin)                -1.8830      0.063    -30.099      0.000      -2.006      -1.760\n",
      "SOCIAL_GP_Other Backward Castes (OBC)                     -1.8578      0.049    -38.063      0.000      -1.953      -1.762\n",
      "SOCIAL_GP_Scheduled Castes, Scheduled Tribes or Others    -1.9093      0.050    -37.877      0.000      -2.008      -1.811\n",
      "==========================================================================================================================\n"
     ]
    }
   ],
   "source": [
    "# Binomial multiple logistic regression 2\n",
    "# instantiate the model (using the default parameters)\n",
    "\n",
    "logreg = LogisticRegression(random_state=42)\n",
    "\n",
    "# split the data for training and testing\n",
    "response = df['CL_incidence']\n",
    "feature = df[['sex', 'age', 'POOR', 'WATER', 'SATOILET', 'PARENT_EDUC', 'RELIGION_GP_Muslim', 'RELIGION_GP_Others', 'SOCIAL_GP_Forward/General (except Brahmin)', 'SOCIAL_GP_Other Backward Castes (OBC)', 'SOCIAL_GP_Scheduled Castes, Scheduled Tribes or Others'\n",
    "]]\n",
    "\n",
    "from sklearn.model_selection import train_test_split\n",
    "X_train, X_test, y_train, y_test = train_test_split(feature, response, test_size = 0.1)\n",
    "\n",
    "# fit the model with data\n",
    "logreg.fit(X_train, y_train)\n",
    "\n",
    "# evaluate the model\n",
    "from sklearn.model_selection import cross_val_score\n",
    "scores = cross_val_score(logreg, X_train, y_train, cv = 10)\n",
    "print(f'10-fold CV score: {scores.mean():.3f} +/- {scores.std():.3f}')\n",
    "print(f'The score on test data: {logreg.score(X_test, y_test)}')\n",
    "\n",
    "# Print the model result summary\n",
    "import statsmodels.api as sm\n",
    "logit_model=sm.Logit(y_train, X_train)\n",
    "result=logit_model.fit()\n",
    "print(result.summary())"
   ]
  },
  {
   "cell_type": "markdown",
   "id": "d8e08b72",
   "metadata": {},
   "source": [
    "# Model 2: with parental occupations"
   ]
  },
  {
   "cell_type": "code",
   "execution_count": 89,
   "id": "def8eb18",
   "metadata": {
    "scrolled": true
   },
   "outputs": [
    {
     "name": "stderr",
     "output_type": "stream",
     "text": [
      "C:\\Users\\User\\anaconda3\\lib\\site-packages\\sklearn\\linear_model\\_logistic.py:458: ConvergenceWarning: lbfgs failed to converge (status=1):\n",
      "STOP: TOTAL NO. of ITERATIONS REACHED LIMIT.\n",
      "\n",
      "Increase the number of iterations (max_iter) or scale the data as shown in:\n",
      "    https://scikit-learn.org/stable/modules/preprocessing.html\n",
      "Please also refer to the documentation for alternative solver options:\n",
      "    https://scikit-learn.org/stable/modules/linear_model.html#logistic-regression\n",
      "  n_iter_i = _check_optimize_result(\n",
      "C:\\Users\\User\\anaconda3\\lib\\site-packages\\sklearn\\linear_model\\_logistic.py:458: ConvergenceWarning: lbfgs failed to converge (status=1):\n",
      "STOP: TOTAL NO. of ITERATIONS REACHED LIMIT.\n",
      "\n",
      "Increase the number of iterations (max_iter) or scale the data as shown in:\n",
      "    https://scikit-learn.org/stable/modules/preprocessing.html\n",
      "Please also refer to the documentation for alternative solver options:\n",
      "    https://scikit-learn.org/stable/modules/linear_model.html#logistic-regression\n",
      "  n_iter_i = _check_optimize_result(\n",
      "C:\\Users\\User\\anaconda3\\lib\\site-packages\\sklearn\\linear_model\\_logistic.py:458: ConvergenceWarning: lbfgs failed to converge (status=1):\n",
      "STOP: TOTAL NO. of ITERATIONS REACHED LIMIT.\n",
      "\n",
      "Increase the number of iterations (max_iter) or scale the data as shown in:\n",
      "    https://scikit-learn.org/stable/modules/preprocessing.html\n",
      "Please also refer to the documentation for alternative solver options:\n",
      "    https://scikit-learn.org/stable/modules/linear_model.html#logistic-regression\n",
      "  n_iter_i = _check_optimize_result(\n",
      "C:\\Users\\User\\anaconda3\\lib\\site-packages\\sklearn\\linear_model\\_logistic.py:458: ConvergenceWarning: lbfgs failed to converge (status=1):\n",
      "STOP: TOTAL NO. of ITERATIONS REACHED LIMIT.\n",
      "\n",
      "Increase the number of iterations (max_iter) or scale the data as shown in:\n",
      "    https://scikit-learn.org/stable/modules/preprocessing.html\n",
      "Please also refer to the documentation for alternative solver options:\n",
      "    https://scikit-learn.org/stable/modules/linear_model.html#logistic-regression\n",
      "  n_iter_i = _check_optimize_result(\n",
      "C:\\Users\\User\\anaconda3\\lib\\site-packages\\sklearn\\linear_model\\_logistic.py:458: ConvergenceWarning: lbfgs failed to converge (status=1):\n",
      "STOP: TOTAL NO. of ITERATIONS REACHED LIMIT.\n",
      "\n",
      "Increase the number of iterations (max_iter) or scale the data as shown in:\n",
      "    https://scikit-learn.org/stable/modules/preprocessing.html\n",
      "Please also refer to the documentation for alternative solver options:\n",
      "    https://scikit-learn.org/stable/modules/linear_model.html#logistic-regression\n",
      "  n_iter_i = _check_optimize_result(\n",
      "C:\\Users\\User\\anaconda3\\lib\\site-packages\\sklearn\\linear_model\\_logistic.py:458: ConvergenceWarning: lbfgs failed to converge (status=1):\n",
      "STOP: TOTAL NO. of ITERATIONS REACHED LIMIT.\n",
      "\n",
      "Increase the number of iterations (max_iter) or scale the data as shown in:\n",
      "    https://scikit-learn.org/stable/modules/preprocessing.html\n",
      "Please also refer to the documentation for alternative solver options:\n",
      "    https://scikit-learn.org/stable/modules/linear_model.html#logistic-regression\n",
      "  n_iter_i = _check_optimize_result(\n",
      "C:\\Users\\User\\anaconda3\\lib\\site-packages\\sklearn\\linear_model\\_logistic.py:458: ConvergenceWarning: lbfgs failed to converge (status=1):\n",
      "STOP: TOTAL NO. of ITERATIONS REACHED LIMIT.\n",
      "\n",
      "Increase the number of iterations (max_iter) or scale the data as shown in:\n",
      "    https://scikit-learn.org/stable/modules/preprocessing.html\n",
      "Please also refer to the documentation for alternative solver options:\n",
      "    https://scikit-learn.org/stable/modules/linear_model.html#logistic-regression\n",
      "  n_iter_i = _check_optimize_result(\n",
      "C:\\Users\\User\\anaconda3\\lib\\site-packages\\sklearn\\linear_model\\_logistic.py:458: ConvergenceWarning: lbfgs failed to converge (status=1):\n",
      "STOP: TOTAL NO. of ITERATIONS REACHED LIMIT.\n",
      "\n",
      "Increase the number of iterations (max_iter) or scale the data as shown in:\n",
      "    https://scikit-learn.org/stable/modules/preprocessing.html\n",
      "Please also refer to the documentation for alternative solver options:\n",
      "    https://scikit-learn.org/stable/modules/linear_model.html#logistic-regression\n",
      "  n_iter_i = _check_optimize_result(\n",
      "C:\\Users\\User\\anaconda3\\lib\\site-packages\\sklearn\\linear_model\\_logistic.py:458: ConvergenceWarning: lbfgs failed to converge (status=1):\n",
      "STOP: TOTAL NO. of ITERATIONS REACHED LIMIT.\n",
      "\n",
      "Increase the number of iterations (max_iter) or scale the data as shown in:\n",
      "    https://scikit-learn.org/stable/modules/preprocessing.html\n",
      "Please also refer to the documentation for alternative solver options:\n",
      "    https://scikit-learn.org/stable/modules/linear_model.html#logistic-regression\n",
      "  n_iter_i = _check_optimize_result(\n",
      "C:\\Users\\User\\anaconda3\\lib\\site-packages\\sklearn\\linear_model\\_logistic.py:458: ConvergenceWarning: lbfgs failed to converge (status=1):\n",
      "STOP: TOTAL NO. of ITERATIONS REACHED LIMIT.\n",
      "\n",
      "Increase the number of iterations (max_iter) or scale the data as shown in:\n",
      "    https://scikit-learn.org/stable/modules/preprocessing.html\n",
      "Please also refer to the documentation for alternative solver options:\n",
      "    https://scikit-learn.org/stable/modules/linear_model.html#logistic-regression\n",
      "  n_iter_i = _check_optimize_result(\n"
     ]
    },
    {
     "name": "stdout",
     "output_type": "stream",
     "text": [
      "10-fold CV score: 0.909 +/- 0.000\n",
      "The score on test data: 0.9144353899883586\n",
      "Optimization terminated successfully.\n",
      "         Current function value: 0.279801\n",
      "         Iterations 8\n",
      "                           Logit Regression Results                           \n",
      "==============================================================================\n",
      "Dep. Variable:           CL_incidence   No. Observations:                46379\n",
      "Model:                          Logit   Df Residuals:                    46358\n",
      "Method:                           MLE   Df Model:                           20\n",
      "Date:                Mon, 10 Jul 2023   Pseudo R-squ.:                 0.08491\n",
      "Time:                        16:51:09   Log-Likelihood:                -12977.\n",
      "converged:                       True   LL-Null:                       -14181.\n",
      "Covariance Type:            nonrobust   LLR p-value:                     0.000\n",
      "==========================================================================================================================\n",
      "                                                             coef    std err          z      P>|z|      [0.025      0.975]\n",
      "--------------------------------------------------------------------------------------------------------------------------\n",
      "sex                                                       -0.5155      0.033    -15.513      0.000      -0.581      -0.450\n",
      "age                                                        0.0957      0.004     24.959      0.000       0.088       0.103\n",
      "POOR                                                      -0.1478      0.037     -3.969      0.000      -0.221      -0.075\n",
      "WATER                                                     -0.5767      0.048    -11.960      0.000      -0.671      -0.482\n",
      "SATOILET                                                  -0.8534      0.048    -17.644      0.000      -0.948      -0.759\n",
      "PARENT_EDUC                                               -0.3781      0.015    -25.879      0.000      -0.407      -0.349\n",
      "RELIGION_GP_Muslim                                        -0.1568      0.053     -2.974      0.003      -0.260      -0.053\n",
      "RELIGION_GP_Others                                        -0.1448      0.089     -1.633      0.103      -0.319       0.029\n",
      "SOCIAL_GP_Forward/General (except Brahmin)                -1.6548      0.065    -25.470      0.000      -1.782      -1.527\n",
      "SOCIAL_GP_Other Backward Castes (OBC)                     -1.6880      0.052    -32.502      0.000      -1.790      -1.586\n",
      "SOCIAL_GP_Scheduled Castes, Scheduled Tribes or Others    -1.7158      0.054    -32.063      0.000      -1.821      -1.611\n",
      "paternal_occup_w2_Farmers, Fishermen & Hunters            -0.0971      0.049     -1.969      0.049      -0.194      -0.000\n",
      "paternal_occup_w2_Others                                   0.0503      0.043      1.161      0.246      -0.035       0.135\n",
      "paternal_occup_w2_Professional & Managerial               -0.7995      0.172     -4.636      0.000      -1.138      -0.462\n",
      "paternal_occup_w2_Sales workers                           -0.5191      0.185     -2.806      0.005      -0.882      -0.157\n",
      "paternal_occup_w2_Service & Clerical                      -0.5641      0.105     -5.384      0.000      -0.769      -0.359\n",
      "maternal_occup_w2_Farmers, Fishermen & Hunters            -0.3781      0.052     -7.330      0.000      -0.479      -0.277\n",
      "maternal_occup_w2_Others                                  -0.6682      0.041    -16.421      0.000      -0.748      -0.588\n",
      "maternal_occup_w2_Professional & Managerial               -0.8416      0.202     -4.172      0.000      -1.237      -0.446\n",
      "maternal_occup_w2_Sales workers                           -0.4471      0.609     -0.734      0.463      -1.641       0.747\n",
      "maternal_occup_w2_Service & Clerical                      -0.6015      0.105     -5.739      0.000      -0.807      -0.396\n",
      "==========================================================================================================================\n"
     ]
    }
   ],
   "source": [
    "# Binomial multiple logistic regression 2\n",
    "# instantiate the model (using the default parameters)\n",
    "\n",
    "logreg = LogisticRegression(random_state=42)\n",
    "\n",
    "# split the data for training and testing\n",
    "response = df['CL_incidence']\n",
    "feature = df[['sex', 'age', 'POOR', 'WATER', 'SATOILET', 'PARENT_EDUC', 'RELIGION_GP_Muslim', 'RELIGION_GP_Others', 'SOCIAL_GP_Forward/General (except Brahmin)', 'SOCIAL_GP_Other Backward Castes (OBC)', 'SOCIAL_GP_Scheduled Castes, Scheduled Tribes or Others','paternal_occup_w2_Farmers, Fishermen & Hunters','paternal_occup_w2_Others','paternal_occup_w2_Professional & Managerial','paternal_occup_w2_Sales workers','paternal_occup_w2_Service & Clerical',\n",
    "             'maternal_occup_w2_Farmers, Fishermen & Hunters','maternal_occup_w2_Others','maternal_occup_w2_Professional & Managerial','maternal_occup_w2_Sales workers','maternal_occup_w2_Service & Clerical']]\n",
    "\n",
    "from sklearn.model_selection import train_test_split\n",
    "X_train, X_test, y_train, y_test = train_test_split(feature, response, test_size = 0.1)\n",
    "\n",
    "# fit the model with data\n",
    "logreg.fit(X_train, y_train)\n",
    "\n",
    "# evaluate the model\n",
    "from sklearn.model_selection import cross_val_score\n",
    "scores = cross_val_score(logreg, X_train, y_train, cv = 10)\n",
    "print(f'10-fold CV score: {scores.mean():.3f} +/- {scores.std():.3f}')\n",
    "print(f'The score on test data: {logreg.score(X_test, y_test)}')\n",
    "\n",
    "# Print the model result summary\n",
    "import statsmodels.api as sm\n",
    "logit_model=sm.Logit(y_train, X_train)\n",
    "result=logit_model.fit()\n",
    "print(result.summary())"
   ]
  },
  {
   "cell_type": "code",
   "execution_count": null,
   "id": "ad9359b8",
   "metadata": {},
   "outputs": [],
   "source": []
  },
  {
   "cell_type": "markdown",
   "id": "92377803",
   "metadata": {},
   "source": [
    "# Running Chi Squared Test for Parental Occupations"
   ]
  },
  {
   "cell_type": "code",
   "execution_count": 3,
   "id": "498a9d4b",
   "metadata": {},
   "outputs": [],
   "source": [
    "# read the cleaned df\n",
    "df = pd.read_csv(path+'/'+'IHDS_2012_cleaned_df_child_2023_07_10_v2.csv')"
   ]
  },
  {
   "cell_type": "code",
   "execution_count": 4,
   "id": "38292d51",
   "metadata": {},
   "outputs": [],
   "source": [
    "# set H0 and Ha\n",
    "# H0: there are equal frequencies of CL incidence for each parental occupation type\n",
    "# Ha: there are inequal frequencies of CL incidence for each parental occupation type\n",
    "\n",
    "# determine degree of freedom (degfre = n-1)\n",
    "degfre = len(df['paternal_occup_w2'].unique()) - 1"
   ]
  },
  {
   "cell_type": "code",
   "execution_count": 5,
   "id": "7ae3ef07",
   "metadata": {},
   "outputs": [
    {
     "name": "stderr",
     "output_type": "stream",
     "text": [
      "C:\\Users\\User\\anaconda3\\lib\\site-packages\\pandas\\core\\generic.py:6392: SettingWithCopyWarning: \n",
      "A value is trying to be set on a copy of a slice from a DataFrame\n",
      "\n",
      "See the caveats in the documentation: https://pandas.pydata.org/pandas-docs/stable/user_guide/indexing.html#returning-a-view-versus-a-copy\n",
      "  return self._update_inplace(result)\n"
     ]
    },
    {
     "data": {
      "text/html": [
       "<div>\n",
       "<style scoped>\n",
       "    .dataframe tbody tr th:only-of-type {\n",
       "        vertical-align: middle;\n",
       "    }\n",
       "\n",
       "    .dataframe tbody tr th {\n",
       "        vertical-align: top;\n",
       "    }\n",
       "\n",
       "    .dataframe thead th {\n",
       "        text-align: right;\n",
       "    }\n",
       "</style>\n",
       "<table border=\"1\" class=\"dataframe\">\n",
       "  <thead>\n",
       "    <tr style=\"text-align: right;\">\n",
       "      <th></th>\n",
       "      <th>CL_incidence</th>\n",
       "    </tr>\n",
       "    <tr>\n",
       "      <th>paternal_occup_w2</th>\n",
       "      <th></th>\n",
       "    </tr>\n",
       "  </thead>\n",
       "  <tbody>\n",
       "    <tr>\n",
       "      <th>Construction, Production &amp; Labour</th>\n",
       "      <td>1702</td>\n",
       "    </tr>\n",
       "    <tr>\n",
       "      <th>Farmers, Fishermen &amp; Hunters</th>\n",
       "      <td>863</td>\n",
       "    </tr>\n",
       "    <tr>\n",
       "      <th>Nan</th>\n",
       "      <td>746</td>\n",
       "    </tr>\n",
       "    <tr>\n",
       "      <th>Others</th>\n",
       "      <td>1178</td>\n",
       "    </tr>\n",
       "    <tr>\n",
       "      <th>Professional &amp; Managerial</th>\n",
       "      <td>42</td>\n",
       "    </tr>\n",
       "    <tr>\n",
       "      <th>Sales workers</th>\n",
       "      <td>35</td>\n",
       "    </tr>\n",
       "    <tr>\n",
       "      <th>Service &amp; Clerical</th>\n",
       "      <td>114</td>\n",
       "    </tr>\n",
       "  </tbody>\n",
       "</table>\n",
       "</div>"
      ],
      "text/plain": [
       "                                   CL_incidence\n",
       "paternal_occup_w2                              \n",
       "Construction, Production & Labour          1702\n",
       "Farmers, Fishermen & Hunters                863\n",
       "Nan                                         746\n",
       "Others                                     1178\n",
       "Professional & Managerial                    42\n",
       "Sales workers                                35\n",
       "Service & Clerical                          114"
      ]
     },
     "execution_count": 5,
     "metadata": {},
     "output_type": "execute_result"
    }
   ],
   "source": [
    "# Create the observed df for paternal occup w2\n",
    "df_pat = df[['paternal_occup_w2','CL_incidence']]\n",
    "df_pat['paternal_occup_w2'].fillna('Nan', inplace =True)\n",
    "observed = df_pat.groupby(['paternal_occup_w2']).sum()\n",
    "observed\n"
   ]
  },
  {
   "cell_type": "code",
   "execution_count": null,
   "id": "f2edfdd1",
   "metadata": {},
   "outputs": [],
   "source": []
  },
  {
   "cell_type": "code",
   "execution_count": 49,
   "id": "948d6339",
   "metadata": {
    "scrolled": true
   },
   "outputs": [
    {
     "data": {
      "text/html": [
       "<div>\n",
       "<style scoped>\n",
       "    .dataframe tbody tr th:only-of-type {\n",
       "        vertical-align: middle;\n",
       "    }\n",
       "\n",
       "    .dataframe tbody tr th {\n",
       "        vertical-align: top;\n",
       "    }\n",
       "\n",
       "    .dataframe thead th {\n",
       "        text-align: right;\n",
       "    }\n",
       "</style>\n",
       "<table border=\"1\" class=\"dataframe\">\n",
       "  <thead>\n",
       "    <tr style=\"text-align: right;\">\n",
       "      <th></th>\n",
       "      <th>0</th>\n",
       "    </tr>\n",
       "    <tr>\n",
       "      <th>paternal_occup_w2</th>\n",
       "      <th></th>\n",
       "    </tr>\n",
       "  </thead>\n",
       "  <tbody>\n",
       "    <tr>\n",
       "      <th>NaN</th>\n",
       "      <td>746.0</td>\n",
       "    </tr>\n",
       "    <tr>\n",
       "      <th>Construction, Production &amp; Labour</th>\n",
       "      <td>1702.0</td>\n",
       "    </tr>\n",
       "    <tr>\n",
       "      <th>Farmers, Fishermen &amp; Hunters</th>\n",
       "      <td>863.0</td>\n",
       "    </tr>\n",
       "    <tr>\n",
       "      <th>Others</th>\n",
       "      <td>1178.0</td>\n",
       "    </tr>\n",
       "    <tr>\n",
       "      <th>Professional &amp; Managerial</th>\n",
       "      <td>42.0</td>\n",
       "    </tr>\n",
       "    <tr>\n",
       "      <th>Sales workers</th>\n",
       "      <td>35.0</td>\n",
       "    </tr>\n",
       "    <tr>\n",
       "      <th>Service &amp; Clerical</th>\n",
       "      <td>114.0</td>\n",
       "    </tr>\n",
       "  </tbody>\n",
       "</table>\n",
       "</div>"
      ],
      "text/plain": [
       "                                        0\n",
       "paternal_occup_w2                        \n",
       "NaN                                 746.0\n",
       "Construction, Production & Labour  1702.0\n",
       "Farmers, Fishermen & Hunters        863.0\n",
       "Others                             1178.0\n",
       "Professional & Managerial            42.0\n",
       "Sales workers                        35.0\n",
       "Service & Clerical                  114.0"
      ]
     },
     "execution_count": 49,
     "metadata": {},
     "output_type": "execute_result"
    }
   ],
   "source": []
  },
  {
   "cell_type": "code",
   "execution_count": 6,
   "id": "40d74c4c",
   "metadata": {},
   "outputs": [],
   "source": [
    "# Create a list for occupation and their number of cases\n",
    "mydict = dict(df_pat['paternal_occup_w2'].value_counts())\n",
    "#mydict['Nan'] = 7067\n",
    "mylist1 = list(mydict.keys())\n",
    "mylist2 = list(mydict.values())\n",
    "\n",
    "# get the average CL incidence\n",
    "CL_mean = df_pat['CL_incidence'].mean()\n",
    "\n",
    "# convert mydict to df\n",
    "data = {'paternal_occup_w2':mylist1, 'CL_incidence':mylist2}\n",
    "df_exp = pd.DataFrame.from_dict(data)\n",
    "df_exp['CL_incidence'] = df_exp['CL_incidence']*CL_mean\n",
    "expected = df_exp"
   ]
  },
  {
   "cell_type": "code",
   "execution_count": 7,
   "id": "d85cee76",
   "metadata": {},
   "outputs": [],
   "source": [
    "expected = expected.set_index('paternal_occup_w2')"
   ]
  },
  {
   "cell_type": "code",
   "execution_count": 8,
   "id": "ce566be0",
   "metadata": {},
   "outputs": [
    {
     "name": "stdout",
     "output_type": "stream",
     "text": [
      "351.79516253844696\n"
     ]
    }
   ],
   "source": [
    "# Calculate the Chi squared test\n",
    "chi_squared_stat = (((observed-expected)**2)/expected).sum().sum()\n",
    "print(chi_squared_stat)"
   ]
  },
  {
   "cell_type": "code",
   "execution_count": 9,
   "id": "5e45654d",
   "metadata": {
    "scrolled": true
   },
   "outputs": [
    {
     "name": "stdout",
     "output_type": "stream",
     "text": [
      "Critical value: 12.591587243743977\n",
      "P value: 0.0\n"
     ]
    }
   ],
   "source": [
    "critical_value= chi2.ppf(q = 0.95, # Find the critical value for 95% confidence*\n",
    "                      df = degfre)   # df= degree of freedom\n",
    "\n",
    "p_value = 1 - chi2.cdf(x=chi_squared_stat, df = degfre)\n",
    "print(\"Critical value:\",critical_value)\n",
    "print(\"P value:\", p_value)"
   ]
  },
  {
   "cell_type": "code",
   "execution_count": 112,
   "id": "db2e6662",
   "metadata": {},
   "outputs": [],
   "source": [
    "def double_std(array):\n",
    " return np.std(array) * 2"
   ]
  },
  {
   "cell_type": "code",
   "execution_count": 113,
   "id": "a02fce8a",
   "metadata": {},
   "outputs": [
    {
     "data": {
      "text/html": [
       "<div>\n",
       "<style scoped>\n",
       "    .dataframe tbody tr th:only-of-type {\n",
       "        vertical-align: middle;\n",
       "    }\n",
       "\n",
       "    .dataframe tbody tr th {\n",
       "        vertical-align: top;\n",
       "    }\n",
       "\n",
       "    .dataframe thead th {\n",
       "        text-align: right;\n",
       "    }\n",
       "</style>\n",
       "<table border=\"1\" class=\"dataframe\">\n",
       "  <thead>\n",
       "    <tr style=\"text-align: right;\">\n",
       "      <th></th>\n",
       "      <th>paternal_occup_w2</th>\n",
       "      <th>CL_incidence</th>\n",
       "    </tr>\n",
       "  </thead>\n",
       "  <tbody>\n",
       "    <tr>\n",
       "      <th>0</th>\n",
       "      <td>Construction, Production &amp; Labour</td>\n",
       "      <td>0</td>\n",
       "    </tr>\n",
       "    <tr>\n",
       "      <th>1</th>\n",
       "      <td>Construction, Production &amp; Labour</td>\n",
       "      <td>0</td>\n",
       "    </tr>\n",
       "    <tr>\n",
       "      <th>2</th>\n",
       "      <td>Professional &amp; Managerial</td>\n",
       "      <td>0</td>\n",
       "    </tr>\n",
       "    <tr>\n",
       "      <th>3</th>\n",
       "      <td>Professional &amp; Managerial</td>\n",
       "      <td>0</td>\n",
       "    </tr>\n",
       "    <tr>\n",
       "      <th>4</th>\n",
       "      <td>Professional &amp; Managerial</td>\n",
       "      <td>0</td>\n",
       "    </tr>\n",
       "    <tr>\n",
       "      <th>...</th>\n",
       "      <td>...</td>\n",
       "      <td>...</td>\n",
       "    </tr>\n",
       "    <tr>\n",
       "      <th>51528</th>\n",
       "      <td>Farmers, Fishermen &amp; Hunters</td>\n",
       "      <td>0</td>\n",
       "    </tr>\n",
       "    <tr>\n",
       "      <th>51529</th>\n",
       "      <td>Nan</td>\n",
       "      <td>0</td>\n",
       "    </tr>\n",
       "    <tr>\n",
       "      <th>51530</th>\n",
       "      <td>Nan</td>\n",
       "      <td>0</td>\n",
       "    </tr>\n",
       "    <tr>\n",
       "      <th>51531</th>\n",
       "      <td>Service &amp; Clerical</td>\n",
       "      <td>0</td>\n",
       "    </tr>\n",
       "    <tr>\n",
       "      <th>51532</th>\n",
       "      <td>Service &amp; Clerical</td>\n",
       "      <td>0</td>\n",
       "    </tr>\n",
       "  </tbody>\n",
       "</table>\n",
       "<p>51533 rows × 2 columns</p>\n",
       "</div>"
      ],
      "text/plain": [
       "                       paternal_occup_w2  CL_incidence\n",
       "0      Construction, Production & Labour             0\n",
       "1      Construction, Production & Labour             0\n",
       "2              Professional & Managerial             0\n",
       "3              Professional & Managerial             0\n",
       "4              Professional & Managerial             0\n",
       "...                                  ...           ...\n",
       "51528       Farmers, Fishermen & Hunters             0\n",
       "51529                                Nan             0\n",
       "51530                                Nan             0\n",
       "51531                 Service & Clerical             0\n",
       "51532                 Service & Clerical             0\n",
       "\n",
       "[51533 rows x 2 columns]"
      ]
     },
     "execution_count": 113,
     "metadata": {},
     "output_type": "execute_result"
    }
   ],
   "source": [
    "df_pat"
   ]
  },
  {
   "cell_type": "code",
   "execution_count": 117,
   "id": "5d2d3bb7",
   "metadata": {},
   "outputs": [
    {
     "data": {
      "text/html": [
       "<div>\n",
       "<style scoped>\n",
       "    .dataframe tbody tr th:only-of-type {\n",
       "        vertical-align: middle;\n",
       "    }\n",
       "\n",
       "    .dataframe tbody tr th {\n",
       "        vertical-align: top;\n",
       "    }\n",
       "\n",
       "    .dataframe thead th {\n",
       "        text-align: right;\n",
       "    }\n",
       "</style>\n",
       "<table border=\"1\" class=\"dataframe\">\n",
       "  <thead>\n",
       "    <tr style=\"text-align: right;\">\n",
       "      <th></th>\n",
       "      <th>observed_CL</th>\n",
       "      <th>observed_double_std</th>\n",
       "      <th>mean_observed_CL</th>\n",
       "    </tr>\n",
       "    <tr>\n",
       "      <th>paternal_occup_w2</th>\n",
       "      <th></th>\n",
       "      <th></th>\n",
       "      <th></th>\n",
       "    </tr>\n",
       "  </thead>\n",
       "  <tbody>\n",
       "    <tr>\n",
       "      <th>Construction, Production &amp; Labour</th>\n",
       "      <td>1702</td>\n",
       "      <td>0.601178</td>\n",
       "      <td>0.100443</td>\n",
       "    </tr>\n",
       "    <tr>\n",
       "      <th>Farmers, Fishermen &amp; Hunters</th>\n",
       "      <td>863</td>\n",
       "      <td>0.647929</td>\n",
       "      <td>0.119150</td>\n",
       "    </tr>\n",
       "    <tr>\n",
       "      <th>Nan</th>\n",
       "      <td>746</td>\n",
       "      <td>0.614550</td>\n",
       "      <td>0.105561</td>\n",
       "    </tr>\n",
       "    <tr>\n",
       "      <th>Others</th>\n",
       "      <td>1178</td>\n",
       "      <td>0.553055</td>\n",
       "      <td>0.083428</td>\n",
       "    </tr>\n",
       "    <tr>\n",
       "      <th>Professional &amp; Managerial</th>\n",
       "      <td>42</td>\n",
       "      <td>0.292700</td>\n",
       "      <td>0.021898</td>\n",
       "    </tr>\n",
       "    <tr>\n",
       "      <th>Sales workers</th>\n",
       "      <td>35</td>\n",
       "      <td>0.377130</td>\n",
       "      <td>0.036920</td>\n",
       "    </tr>\n",
       "    <tr>\n",
       "      <th>Service &amp; Clerical</th>\n",
       "      <td>114</td>\n",
       "      <td>0.365679</td>\n",
       "      <td>0.034629</td>\n",
       "    </tr>\n",
       "  </tbody>\n",
       "</table>\n",
       "</div>"
      ],
      "text/plain": [
       "                                   observed_CL  observed_double_std  \\\n",
       "paternal_occup_w2                                                     \n",
       "Construction, Production & Labour         1702             0.601178   \n",
       "Farmers, Fishermen & Hunters               863             0.647929   \n",
       "Nan                                        746             0.614550   \n",
       "Others                                    1178             0.553055   \n",
       "Professional & Managerial                   42             0.292700   \n",
       "Sales workers                               35             0.377130   \n",
       "Service & Clerical                         114             0.365679   \n",
       "\n",
       "                                   mean_observed_CL  \n",
       "paternal_occup_w2                                    \n",
       "Construction, Production & Labour          0.100443  \n",
       "Farmers, Fishermen & Hunters               0.119150  \n",
       "Nan                                        0.105561  \n",
       "Others                                     0.083428  \n",
       "Professional & Managerial                  0.021898  \n",
       "Sales workers                              0.036920  \n",
       "Service & Clerical                         0.034629  "
      ]
     },
     "execution_count": 117,
     "metadata": {},
     "output_type": "execute_result"
    }
   ],
   "source": [
    "# Visualise the difference between expected and observed CL incidence for paternal occupation\n",
    "expected = expected.rename(columns={'CL_incidence':'expected_CL'})\n",
    "observed_std = df_pat.groupby(['paternal_occup_w2']).agg(observed_CL=('CL_incidence','sum'), observed_double_std=('CL_incidence',double_std), mean_observed_CL=('CL_incidence','mean'))\n",
    "#observed_std = observed_std.rename(columns={'CL_incidence':'observed_CL'})\n",
    "observed_std\n"
   ]
  },
  {
   "cell_type": "code",
   "execution_count": 119,
   "id": "025213ed",
   "metadata": {},
   "outputs": [],
   "source": [
    "merged = expected.merge(observed_std, how='left', on = 'paternal_occup_w2')"
   ]
  },
  {
   "cell_type": "code",
   "execution_count": 122,
   "id": "03b62e42",
   "metadata": {},
   "outputs": [
    {
     "name": "stderr",
     "output_type": "stream",
     "text": [
      "C:\\Users\\User\\AppData\\Local\\Temp/ipykernel_13396/3928768097.py:2: SettingWithCopyWarning: \n",
      "A value is trying to be set on a copy of a slice from a DataFrame.\n",
      "Try using .loc[row_indexer,col_indexer] = value instead\n",
      "\n",
      "See the caveats in the documentation: https://pandas.pydata.org/pandas-docs/stable/user_guide/indexing.html#returning-a-view-versus-a-copy\n",
      "  merged_mean_sd['mean_expected_CL'] = CL_mean\n"
     ]
    }
   ],
   "source": [
    "merged_mean_sd = merged[['observed_double_std','mean_observed_CL']]\n",
    "merged_mean_sd['mean_expected_CL'] = CL_mean"
   ]
  },
  {
   "cell_type": "code",
   "execution_count": 125,
   "id": "b26e30b2",
   "metadata": {},
   "outputs": [
    {
     "data": {
      "image/png": "[encoded data removed]",
      "text/plain": [
       "<Figure size 1800x1080 with 1 Axes>"
      ]
     },
     "metadata": {},
     "output_type": "display_data"
    }
   ],
   "source": [
    "sns.set(rc={'figure.figsize':(25,15)})\n",
    "sns.set_context('paper',font_scale=1.8)\n",
    "ax = merged_mean_sd.plot.bar(rot=0, yerr='observed_double_std').set_title('Mean of CL incidence for different paternal occupations')"
   ]
  },
  {
   "cell_type": "code",
   "execution_count": 126,
   "id": "90c55362",
   "metadata": {},
   "outputs": [
    {
     "data": {
      "image/png": "[encoded data removed]",
      "text/plain": [
       "<Figure size 1800x1080 with 1 Axes>"
      ]
     },
     "metadata": {},
     "output_type": "display_data"
    }
   ],
   "source": [
    "sns.set(rc={'figure.figsize':(25,15)})\n",
    "sns.set_context('paper',font_scale=1.8)\n",
    "ax = merged.plot.bar(rot=0, yerr='observed_double_std').set_title('Expected and Observed Total CL incidence for Different Paternal Occupations')"
   ]
  },
  {
   "cell_type": "markdown",
   "id": "fc8bfa77",
   "metadata": {},
   "source": [
    "# Matching the cleaned df with wave 1 data"
   ]
  },
  {
   "cell_type": "code",
   "execution_count": null,
   "id": "82024229",
   "metadata": {},
   "outputs": [],
   "source": []
  },
  {
   "cell_type": "markdown",
   "id": "4d55a7e7",
   "metadata": {},
   "source": [
    "## IHDS Wave 1 Data"
   ]
  },
  {
   "cell_type": "code",
   "execution_count": null,
   "id": "1b8cfc4c",
   "metadata": {
    "scrolled": true
   },
   "outputs": [],
   "source": [
    "# Compute Parental Occupational CL risk variable from wave 1 \n",
    "# read IHDS wave1 csv file as df\n",
    "path = r'C:\\Users\\User\\Desktop\\University of Manchester\\MSc Data Science\\Semester 2\\Dissertation\\Dataset\\IHDS data\\IHDS_2005\\IHDS_2005 csv file'\n",
    "df = pd.read_csv(path + '/' + 'IHDS_2005_DS0001_Individual.csv')"
   ]
  },
  {
   "cell_type": "code",
   "execution_count": null,
   "id": "5687e46e",
   "metadata": {
    "scrolled": true
   },
   "outputs": [],
   "source": [
    "# select only the variables we need in IHDS wave 1\n",
    "selected_var = ['CASEID','STATEID','DISTID','PSUID','HHID','HHSPLITID','PERSONID','IDHH','STATEID2','RO0','RO3','RO5','RO8','RO9','WS3A', 'WS6A', 'FM30','NF9','NF18','NF27','WS4A']\n",
    "df = df[selected_var]\n",
    "\n",
    "# rename WS3A as OCCUP\n",
    "df = df.rename(columns={'WS3A':'OCCUP', 'WS6A':'wkhr_perday','WS4A':'industry','RO3':'sex','RO5':'age','RO8':'father_roster_id','RO9':'mother_roster_id'})"
   ]
  },
  {
   "cell_type": "code",
   "execution_count": null,
   "id": "30538077",
   "metadata": {},
   "outputs": [],
   "source": [
    "# Data Cleaning\n",
    "# wkhr_perday\n",
    "df['wkhr_perday'].value_counts()\n",
    "\n",
    "# drop rows with invalid skip in 'wkhr_perday'\n",
    "index_drop = df[df['wkhr_perday'] =='Invalid skip'].index\n",
    "df.drop(index_drop, inplace = True)\n",
    "\n",
    "# check values of wkhr_perday again\n",
    "df['wkhr_perday'].value_counts()\n",
    "df['wkhr_perday'].isna().sum()\n",
    "\n",
    "# fill NA with 0\n",
    "df['wkhr_perday'].fillna(0, inplace = True)\n",
    "\n",
    "# unify the datatype as int64\n",
    "df['wkhr_perday'] = df['wkhr_perday'].astype(np.int64)"
   ]
  },
  {
   "cell_type": "code",
   "execution_count": null,
   "id": "4d7d5f40",
   "metadata": {},
   "outputs": [],
   "source": [
    "# Data Cleaning\n",
    "# age\n",
    "df['age'].value_counts()\n",
    "\n",
    "# Check for NA\n",
    "df['age'].isna().sum()\n",
    "\n",
    "# No missing values in age\n",
    "\n",
    "# unify the datatype as int64\n",
    "df['age'] = df['age'].astype(np.int64)"
   ]
  },
  {
   "cell_type": "code",
   "execution_count": null,
   "id": "b4e03dd2",
   "metadata": {},
   "outputs": [],
   "source": [
    "# Calculate the CL incidence\n",
    "# calculate the total working hours per week\n",
    "df['total_wk_hr'] = df['wkhr_perday']*7\n",
    "\n",
    "# define age_group function\n",
    "def age_group(x):\n",
    "    if x <=4:\n",
    "        return 0\n",
    "    elif x>=5 and x <=11:\n",
    "        return 1\n",
    "    elif x>=12 and x <=14:\n",
    "        return 2\n",
    "    elif x>=15 and x <=17:\n",
    "        return 3\n",
    "    else:\n",
    "        return 4\n",
    "\n",
    "# apply age_group function on df['age'] to create new column 'age_gp'\n",
    "df['age_gp'] = df['age'].apply(age_group)"
   ]
  },
  {
   "cell_type": "code",
   "execution_count": null,
   "id": "eaaddad4",
   "metadata": {},
   "outputs": [],
   "source": [
    "# Define Hazardous occupation list\n",
    "hazard_occ_list = ['Transp/commun supe','Plumbers/welders','Rubber/plastic','Miners','Stone cutters','Chemical','Tobacco','Tanners']\n",
    "\n",
    "# Add a column hazard to indicate the hazardousness of the occupation for wave 1 data\n",
    "def hazard_occup_w1(x):\n",
    "    hazard_occ_list = ['Transp/commun supe','Plumbers/welders','Rubber/plastic','Miners','Stone cutters','Chemical','Tobacco','Tanners']\n",
    "    if x != '':\n",
    "        if x in(hazard_occ_list):\n",
    "            return 1\n",
    "        else:\n",
    "            return 0\n",
    "df['hazard'] = df['OCCUP'].apply(hazard_occup_w1) \n",
    "# Impute NA with 0\n",
    "df['hazard'].fillna(0, inplace=True)\n",
    "# Convert the dtype of df['hazard']\n",
    "df['hazard'] = df['hazard'].astype(np.int64)"
   ]
  },
  {
   "cell_type": "code",
   "execution_count": null,
   "id": "50d3ebe3",
   "metadata": {},
   "outputs": [],
   "source": [
    "# Calculate the CL incidence using np.select\n",
    "conditions = [\n",
    "    ((df['hazard'] == 1) & (df['age_gp'] >=1) & (df['age_gp'] <=3)),\n",
    "    ((df['age_gp'] == 1) & (df['total_wk_hr'] >=1)),\n",
    "    ((df['age_gp'] == 2) & (df['total_wk_hr'] >=14)),\n",
    "    ((df['age_gp'] == 3) & (df['total_wk_hr'] >=43))\n",
    "]\n",
    "choices = [1, 1, 1, 1]\n",
    "# create CL_incidence\n",
    "df['CL_incidence'] = np.select(conditions, choices, 0)"
   ]
  },
  {
   "cell_type": "code",
   "execution_count": null,
   "id": "f193242d",
   "metadata": {},
   "outputs": [],
   "source": [
    "# Create unique household+roster id\n",
    "# Check for NA in IDHH\n",
    "df['IDHH'].isna().sum()\n",
    "\n",
    "# Check for NA in RO0\n",
    "df['RO0'].isna().sum()\n",
    "\n",
    "# No missing value in IDHH or RO0"
   ]
  },
  {
   "cell_type": "code",
   "execution_count": null,
   "id": "012d5018",
   "metadata": {},
   "outputs": [],
   "source": [
    "# Create unique household+roster id\n",
    "df['HHRID'] = df['IDHH'].apply(str) + df['RO0'].apply(str)\n",
    "df['HHRID'] = df['HHRID'].astype(np.int64)"
   ]
  },
  {
   "cell_type": "code",
   "execution_count": null,
   "id": "84e55d12",
   "metadata": {},
   "outputs": [],
   "source": [
    "# Create unique father_id by concatenating IDHH and father roster id\n",
    "# Data Cleaning for father_roster_id\n",
    "df['father_roster_id'].value_counts()\n",
    "\n",
    "# replace 'Deceased' and 'Separated' with 0\n",
    "df['father_roster_id'] = df['father_roster_id'].replace(['Deceased', 'Separated'], [0,0])\n",
    "\n",
    "# Check for NA in father_roster_id\n",
    "df['father_roster_id'].isna().sum()\n",
    "\n",
    "# impute NA in father_roster_id with 0\n",
    "df['father_roster_id'].fillna(0, inplace =True)\n",
    "\n",
    "# Create unique father_id by concatenating IDHH and father roster id\n",
    "df['father_id'] = df['IDHH'].apply(str) + df['father_roster_id'].apply(str)\n",
    "df['father_id'] = df['father_id'].astype(np.int64)"
   ]
  },
  {
   "cell_type": "code",
   "execution_count": null,
   "id": "8f0c49aa",
   "metadata": {},
   "outputs": [],
   "source": [
    "# Create unique father_id by concatenating IDHH and father roster id\n",
    "# Data Cleaning for father_roster_id\n",
    "df['mother_roster_id'].value_counts()\n",
    "\n",
    "# replace 'Deceased' and 'Separated' with 0\n",
    "df['mother_roster_id'] = df['mother_roster_id'].replace(['Deceased', 'Separated'], [0,0])\n",
    "\n",
    "# Check for NA in father_roster_id\n",
    "df['mother_roster_id'].isna().sum()\n",
    "\n",
    "# impute NA in father_roster_id with 0\n",
    "df['mother_roster_id'].fillna(0, inplace =True)\n",
    "\n",
    "# Create unique father_id by concatenating IDHH and father roster id\n",
    "df['mother_id'] = df['IDHH'].apply(str) + df['mother_roster_id'].apply(str)\n",
    "df['mother_id'] = df['mother_id'].astype(np.int64)\n",
    "\n"
   ]
  },
  {
   "cell_type": "code",
   "execution_count": null,
   "id": "f14cbec3",
   "metadata": {},
   "outputs": [],
   "source": []
  },
  {
   "cell_type": "code",
   "execution_count": null,
   "id": "ed10e077",
   "metadata": {},
   "outputs": [],
   "source": [
    "# Group the occupations into 6 categories: \n",
    "# 1:Farmers/Fishermen 2:Service&Clerical 3:Sales_workers 4:Construction, Production&Labour 5: Professional&Managerial 6: Others\n",
    "occup_list = df['OCCUP'].unique()\n",
    "print(occup_list)\n",
    "occup1=['Ag labour', 'Other farm','Other farmers','Forestry','Plantation lab','Fishermen']\n",
    "occup2=['Drivers', 'Service nec','Police', 'Clerical nec', 'Maids', 'Cools/waiters','Village officials', 'Barbers', 'Shopkeepers', 'Transp/commun supe','Mail distributors','Computing op', 'Launderers', 'Clerical supe', 'Sweepers','Typists','Telephone op','Book-keepers','Hotel/restaurant','Cinema op','House keepers','Air/ship officers']\n",
    "occup3=['Technical sales', 'Sales, shop', 'FIRE sales','Sales, nec','Money lenders']\n",
    "occup4=['Construction','Plumbers/welders','Labour nec','Tailors','Electrical','Textile', 'Carpenters','Eng. tech', 'Rubber/plastic','Loaders','Transp conductors','Food', 'Assemblers', 'Miners','Stone cutters','Painters','Wood/paper','Metal workers','Chemical', 'Machine tool op','Production nec','Printing','Manuf agents','Potters','Shoe makers','Paper','Jewellery','Tobacco','Boilermen','Tanners']\n",
    "occup5=['Teachers','Mgr manf', 'Mgr service','Other scientific','Managerial nec','Nursing', 'Govt officials', 'Mgr finance','Elected officials','Social scientists','Engineers','Physicians','Accountants','Lawyers','Professional nec','Mgr transp/commun','Farm manager','Artists','Mgr Whsl/retail','Physical sci tech','Physical scientists']\n",
    "occup6=['Invalid skip','Performers',\"Don't know\"]"
   ]
  },
  {
   "cell_type": "code",
   "execution_count": null,
   "id": "900cf92f",
   "metadata": {},
   "outputs": [],
   "source": []
  },
  {
   "cell_type": "code",
   "execution_count": null,
   "id": "35fa9634",
   "metadata": {},
   "outputs": [],
   "source": [
    "# Converting occupations into a variable with 6 groups\n",
    "# define occup_gp function\n",
    "def occup_gp(x):\n",
    "    if x in occup1:\n",
    "        return 'Farmers, Fishermen & Hunters'\n",
    "    elif x in occup2:\n",
    "        return 'Service & Clerical'\n",
    "    elif x in occup3:\n",
    "        return 'Sales workers'\n",
    "    elif x in occup4:\n",
    "        return 'Construction, Production & Labour'\n",
    "    elif x in occup5:\n",
    "        return 'Professional & Managerial'\n",
    "    else:\n",
    "        return 'Others'\n",
    "    \n",
    "# apply hhsize_group function on df['age'] to create new column 'age_gp'\n",
    "df['OCCUP_GP'] = df['OCCUP'].apply(occup_gp)"
   ]
  },
  {
   "cell_type": "code",
   "execution_count": null,
   "id": "f67e1c42",
   "metadata": {
    "scrolled": true
   },
   "outputs": [],
   "source": [
    "# create paternal_occup\n",
    "paternal_occup = df[['HHRID','OCCUP_GP']]\n",
    "paternal_occup = paternal_occup.rename(columns={'HHRID':'father_id','OCCUP_GP':'paternal_occup'})\n",
    "\n",
    "# merge paternal occupation with df\n",
    "df = df.merge(paternal_occup, on='father_id', how='left')\n",
    "\n"
   ]
  },
  {
   "cell_type": "code",
   "execution_count": null,
   "id": "7c0b32b4",
   "metadata": {},
   "outputs": [],
   "source": [
    "# create maternal_occup\n",
    "maternal_occup = df[['HHRID','OCCUP_GP']]\n",
    "maternal_occup = maternal_occup.rename(columns={'HHRID':'mother_id','OCCUP_GP':'maternal_occup'})\n",
    "\n",
    "# merge paternal occupation with df\n",
    "df = df.merge(maternal_occup, on='mother_id', how='left')"
   ]
  },
  {
   "cell_type": "code",
   "execution_count": null,
   "id": "9cbd1ffb",
   "metadata": {},
   "outputs": [],
   "source": [
    "# EDA about child incidence and parental occupations\n",
    "df_child = df[(df['age_gp'] >=1) & (df['age_gp'] <=3)]"
   ]
  },
  {
   "cell_type": "code",
   "execution_count": null,
   "id": "ef6130f8",
   "metadata": {},
   "outputs": [],
   "source": [
    "#df_child.to_csv(path+'/'+'df_child_wave1.csv')"
   ]
  },
  {
   "cell_type": "code",
   "execution_count": null,
   "id": "1f84eb70",
   "metadata": {
    "scrolled": true
   },
   "outputs": [],
   "source": [
    "df_child = pd.read_csv(path+'/'+'df_child_wave1.csv')"
   ]
  },
  {
   "cell_type": "code",
   "execution_count": null,
   "id": "37f9fa5d",
   "metadata": {},
   "outputs": [],
   "source": [
    "df_child.info()"
   ]
  },
  {
   "cell_type": "code",
   "execution_count": null,
   "id": "3b99e22a",
   "metadata": {},
   "outputs": [],
   "source": [
    "df_child_w1_selected_var = df_child[['CASEID','paternal_occup','maternal_occup']]\n",
    "df_child_w1_selected_var = df_child_w1_selected_var.rename(columns={'CASEID':'IDPERSON','paternal_occup':'paternal_occup_w1', 'maternal_occup':'maternal_occup_w1'})"
   ]
  },
  {
   "cell_type": "code",
   "execution_count": null,
   "id": "8816e485",
   "metadata": {},
   "outputs": [],
   "source": [
    "# merge w1 dataset with w2 dataset \n",
    "df = pd.read_csv(path+'/'+'IHDS_2012_cleaned_df_child_2023_07_10.csv')\n",
    "df_merged = df.merge(df_child_w1_selected_var, on='IDPERSON', how='inner')"
   ]
  },
  {
   "cell_type": "code",
   "execution_count": null,
   "id": "262333ce",
   "metadata": {},
   "outputs": [],
   "source": [
    "df_merged.info()"
   ]
  },
  {
   "cell_type": "code",
   "execution_count": null,
   "id": "ea22ac9f",
   "metadata": {},
   "outputs": [],
   "source": [
    "# Create dummy variables for paternal and maternal occup w1\n",
    "# paternal occup w1\n",
    "encoder = preprocessing.OneHotEncoder(sparse = False)\n",
    "encoder.fit(df_merged[['paternal_occup_w1']])\n",
    "encoder.transform(df_merged[['paternal_occup_w1']])\n",
    "df_merged[encoder.get_feature_names_out()] = encoder.transform(df_merged[['paternal_occup_w1']])\n",
    "df_merged.info()\n",
    "\n"
   ]
  },
  {
   "cell_type": "code",
   "execution_count": null,
   "id": "40580802",
   "metadata": {},
   "outputs": [],
   "source": [
    "# define double_std for generating error\n",
    "def double_std(array):\n",
    " return np.std(array) * 2"
   ]
  },
  {
   "cell_type": "code",
   "execution_count": null,
   "id": "9289c1e7",
   "metadata": {},
   "outputs": [],
   "source": [
    "df_paternal_occup = df_child.groupby(['paternal_occup'])['CL_incidence'].mean()"
   ]
  },
  {
   "cell_type": "code",
   "execution_count": null,
   "id": "1a620216",
   "metadata": {
    "scrolled": true
   },
   "outputs": [],
   "source": [
    "df_paternal_occup.plot(kind='bar', figsize=(40,30), fontsize =25)"
   ]
  },
  {
   "cell_type": "code",
   "execution_count": null,
   "id": "a10e9ae7",
   "metadata": {
    "scrolled": false
   },
   "outputs": [],
   "source": [
    "# EDA for interaction between paternal occupation and gender\n",
    "# Interaction between gender(male) and paternal occupation\n",
    "# Convert the table from long to wide format\n",
    "df_paternal_gender = df_child[['sex','paternal_occup','CL_incidence']]\n",
    "\n",
    "sns.set(rc={'figure.figsize':(25,15)})\n",
    "sns.set_context('paper',font_scale=1.8)\n",
    "myorder = ['Service & Clerical', 'Professional & Managerial', 'Construction, Production & Labour', 'Sales workers', 'Farmers, Fishermen & Hunters', 'Others']\n",
    "sns.barplot(data = df_paternal_gender, x= 'paternal_occup', y = 'CL_incidence', hue='sex', order = myorder, palette = \"tab10\").set_title('Child Labour Incidence Rate of Different Paternal Occupations for IHDS2005', fontsize = 30)"
   ]
  },
  {
   "cell_type": "code",
   "execution_count": null,
   "id": "977dad4c",
   "metadata": {},
   "outputs": [],
   "source": [
    "df_paternal_gender = df_child[['sex','maternal_occup','CL_incidence']]\n",
    "\n",
    "sns.set(rc={'figure.figsize':(25,15)})\n",
    "sns.set_context('paper',font_scale=1.8)\n",
    "myorder = ['Service & Clerical', 'Professional & Managerial', 'Construction, Production & Labour', 'Sales workers', 'Farmers, Fishermen & Hunters', 'Others']\n",
    "sns.barplot(data = df_paternal_gender, x= 'maternal_occup', y = 'CL_incidence', hue='sex', order = myorder, palette = \"tab10\").set_title('Child Labour Incidence Rate of Different Maternal Occupations for IHDS2005', fontsize = 30)"
   ]
  },
  {
   "cell_type": "code",
   "execution_count": null,
   "id": "ba46a55c",
   "metadata": {},
   "outputs": [],
   "source": []
  },
  {
   "cell_type": "code",
   "execution_count": null,
   "id": "e103d225",
   "metadata": {},
   "outputs": [],
   "source": []
  },
  {
   "cell_type": "code",
   "execution_count": null,
   "id": "4d3b2830",
   "metadata": {},
   "outputs": [],
   "source": []
  },
  {
   "cell_type": "code",
   "execution_count": null,
   "id": "2203b531",
   "metadata": {},
   "outputs": [],
   "source": []
  },
  {
   "cell_type": "code",
   "execution_count": null,
   "id": "7c220903",
   "metadata": {},
   "outputs": [],
   "source": []
  }
 ],
 "metadata": {
  "kernelspec": {
   "display_name": "Python 3 (ipykernel)",
   "language": "python",
   "name": "python3"
  },
  "language_info": {
   "codemirror_mode": {
    "name": "ipython",
    "version": 3
   },
   "file_extension": ".py",
   "mimetype": "text/x-python",
   "name": "python",
   "nbconvert_exporter": "python",
   "pygments_lexer": "ipython3",
   "version": "3.9.7"
  }
 },
 "nbformat": 4,
 "nbformat_minor": 5
}
