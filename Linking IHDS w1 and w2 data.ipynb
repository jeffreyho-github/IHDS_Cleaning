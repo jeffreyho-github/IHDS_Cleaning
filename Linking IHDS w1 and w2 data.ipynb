{
 "cells": [
  {
   "cell_type": "code",
   "execution_count": 1,
   "id": "7ce7e029",
   "metadata": {},
   "outputs": [],
   "source": [
    "import pandas as pd\n",
    "import numpy as np\n",
    "from sklearn import preprocessing\n",
    "import seaborn as sns\n",
    "import matplotlib.pyplot as plt\n",
    "from sklearn.linear_model import LogisticRegression\n",
    "from scipy.stats import chi2\n",
    "import researchpy"
   ]
  },
  {
   "cell_type": "code",
   "execution_count": 2,
   "id": "efa572a9",
   "metadata": {},
   "outputs": [],
   "source": [
    "path = r'C:\\Users\\User\\Desktop\\University of Manchester\\MSc Data Science\\Semester 2\\Dissertation\\Dataset\\IHDS data\\Linking file'\n",
    "link = pd.read_csv(path + '/' + 'linkind_1.csv')"
   ]
  },
  {
   "cell_type": "code",
   "execution_count": 3,
   "id": "cc308459",
   "metadata": {},
   "outputs": [],
   "source": [
    "# Compute wave 1 (2005) IDHH\n",
    "# Extract the number from stateID string\n",
    "def extract_number(input_string):\n",
    "    x = np.array(input_string.split())\n",
    "    res = x[np.char.isnumeric(x)].astype(int)\n",
    "    return res[0]\n",
    "link['STATEID'] = link['STATEID'].apply(extract_number)"
   ]
  },
  {
   "cell_type": "code",
   "execution_count": 4,
   "id": "f4dde63c",
   "metadata": {},
   "outputs": [],
   "source": [
    "# Drop rows with missing values in PERSONID2005\n",
    "link.dropna(inplace = True)\n",
    "# leaving only 150988 reinterviewed individuals in the linking file dataset"
   ]
  },
  {
   "cell_type": "code",
   "execution_count": 5,
   "id": "1bd12c71",
   "metadata": {},
   "outputs": [],
   "source": [
    "# Drop irrelevant columns\n",
    "link = link.drop(columns=['HHWAVES', 'PWAVES'])"
   ]
  },
  {
   "cell_type": "code",
   "execution_count": 6,
   "id": "46b4eb93",
   "metadata": {},
   "outputs": [],
   "source": [
    "# Convert the dtype of all columns to float to avoid problem of overflowing in int64\n",
    "link = link.astype(float)"
   ]
  },
  {
   "cell_type": "code",
   "execution_count": 7,
   "id": "ba1b5617",
   "metadata": {},
   "outputs": [],
   "source": [
    "# Create CASEID_2005 in linking file\n",
    "link['CASEID_2005'] = link['STATEID']*(10**9) + link['DISTID']*(10**7) + link['PSUID']*(10**5) + link['HHID2005']*(10**3) + link['HHSPLITID2005']*(10**2) + link['PERSONID2005']\n",
    "\n",
    "# impute missing values in CASEID_2005 with 9999999999\n",
    "#link['CASEID_2005'].fillna(9999999999, inplace = True)\n"
   ]
  },
  {
   "cell_type": "code",
   "execution_count": 8,
   "id": "9f9ee8d3",
   "metadata": {},
   "outputs": [],
   "source": [
    "# Create CASEID_2012 in linking file\n",
    "# There is a typo in HHID, every digit is mistakenly multiplied by 10, we handle it by changing the CASEID_2012 formula\n",
    "link['CASEID_2012'] = link['STATEID']*(10**10) + link['DISTID']*(10**8) + link['PSUID']*(10**6) + link['HHID']*(10**3) + link['HHSPLITID']*(10**2) + link['PERSONID']"
   ]
  },
  {
   "cell_type": "code",
   "execution_count": 9,
   "id": "747118f3",
   "metadata": {
    "scrolled": true
   },
   "outputs": [],
   "source": [
    "# Select only the columns required for matching waves 1 and 2 data\n",
    "link = link[['CASEID_2005', 'CASEID_2012']]"
   ]
  },
  {
   "cell_type": "code",
   "execution_count": 10,
   "id": "9a74fabf",
   "metadata": {},
   "outputs": [],
   "source": [
    "# Save linking file as csv file\n",
    "link.to_csv(path + '/' + 'linking file_clean.csv', index = False)"
   ]
  },
  {
   "cell_type": "code",
   "execution_count": 16,
   "id": "055f19e2",
   "metadata": {},
   "outputs": [
    {
     "name": "stderr",
     "output_type": "stream",
     "text": [
      "C:\\Users\\User\\anaconda3\\lib\\site-packages\\IPython\\core\\interactiveshell.py:3444: DtypeWarning: Columns (19) have mixed types.Specify dtype option on import or set low_memory=False.\n",
      "  exec(code_obj, self.user_global_ns, self.user_ns)\n"
     ]
    }
   ],
   "source": [
    "# Merge linking files with IHDS wave 1 data\n",
    "path = r'C:\\Users\\User\\Desktop\\University of Manchester\\MSc Data Science\\Semester 2\\Dissertation\\Dataset\\IHDS data\\IHDS_2005\\IHDS_2005 csv file'\n",
    "df = pd.read_csv(path + '/' + 'df_child_wave1.csv')\n",
    "\n",
    "# rename the parental occup columns\n",
    "df = df.rename(columns={'paternal_occup': 'paternal_occup_w1', 'maternal_occup': 'maternal_occup_w1', 'CASEID':'CASEID_2005'})\n",
    "\n",
    "# select the required columns\n",
    "df = df[['CASEID_2005', 'paternal_occup_w1', 'maternal_occup_w1']]\n",
    "\n",
    "# save as csv file\n",
    "df.to_csv(path + '/' + 'df_child_wave1_for merging.csv', index = False)\n"
   ]
  },
  {
   "cell_type": "code",
   "execution_count": 16,
   "id": "9bdd794c",
   "metadata": {},
   "outputs": [],
   "source": [
    "# Use linking file to merge w1 and w2 datasets\n",
    "path = r'C:\\Users\\User\\Desktop\\University of Manchester\\MSc Data Science\\Semester 2\\Dissertation\\Dataset\\IHDS data\\IHDS_2005\\IHDS_2005 csv file'\n",
    "w1 = pd.read_csv(path + '/' + 'df_child_wave1_for merging.csv')\n",
    "\n",
    "path2 = r'C:\\Users\\User\\Desktop\\University of Manchester\\MSc Data Science\\Semester 2\\Dissertation\\Dataset\\IHDS data\\IHDS_2012\\IHDS_2012 csv file'\n",
    "w2 = pd.read_csv(path2 + '/' + 'IHDS_2012_cleaned_df_child_2023_07_10_v2.csv')\n",
    "\n",
    "path3 = r'C:\\Users\\User\\Desktop\\University of Manchester\\MSc Data Science\\Semester 2\\Dissertation\\Dataset\\IHDS data\\Linking file'\n",
    "link = pd.read_csv(path3 + '/' + 'linking file_clean.csv')"
   ]
  },
  {
   "cell_type": "code",
   "execution_count": 17,
   "id": "28357e37",
   "metadata": {},
   "outputs": [],
   "source": [
    "# rename IDPERSON in IHDS2012 to CASEID_2012\n",
    "w2 = w2.rename(columns = {'IDPERSON':'CASEID_2012'})"
   ]
  },
  {
   "cell_type": "code",
   "execution_count": 20,
   "id": "f26eecfd",
   "metadata": {},
   "outputs": [
    {
     "name": "stdout",
     "output_type": "stream",
     "text": [
      "<class 'pandas.core.frame.DataFrame'>\n",
      "RangeIndex: 62580 entries, 0 to 62579\n",
      "Data columns (total 3 columns):\n",
      " #   Column             Non-Null Count  Dtype \n",
      "---  ------             --------------  ----- \n",
      " 0   CASEID_2005        62580 non-null  int64 \n",
      " 1   paternal_occup_w1  55961 non-null  object\n",
      " 2   maternal_occup_w1  59635 non-null  object\n",
      "dtypes: int64(1), object(2)\n",
      "memory usage: 1.4+ MB\n"
     ]
    }
   ],
   "source": [
    "w1.info()"
   ]
  },
  {
   "cell_type": "code",
   "execution_count": 21,
   "id": "094be881",
   "metadata": {},
   "outputs": [
    {
     "name": "stdout",
     "output_type": "stream",
     "text": [
      "<class 'pandas.core.frame.DataFrame'>\n",
      "RangeIndex: 150988 entries, 0 to 150987\n",
      "Data columns (total 2 columns):\n",
      " #   Column       Non-Null Count   Dtype  \n",
      "---  ------       --------------   -----  \n",
      " 0   CASEID_2005  150988 non-null  float64\n",
      " 1   CASEID_2012  150988 non-null  float64\n",
      "dtypes: float64(2)\n",
      "memory usage: 2.3 MB\n"
     ]
    }
   ],
   "source": [
    "link.info()"
   ]
  },
  {
   "cell_type": "code",
   "execution_count": 22,
   "id": "4a965483",
   "metadata": {},
   "outputs": [],
   "source": [
    "# Merge w1 and linking file\n",
    "merge_df = w1.merge(link, on = 'CASEID_2005', how = 'left')"
   ]
  },
  {
   "cell_type": "code",
   "execution_count": 23,
   "id": "53070dbb",
   "metadata": {},
   "outputs": [],
   "source": [
    "# Drop rows from merge_df in which contain missing values in CASEID_2012\n",
    "merge_df.dropna(subset=['CASEID_2012'], inplace = True)"
   ]
  },
  {
   "cell_type": "code",
   "execution_count": 24,
   "id": "d3982cf5",
   "metadata": {},
   "outputs": [],
   "source": [
    "merge_df.to_csv(path + '/'+ 'w1_link.csv')"
   ]
  },
  {
   "cell_type": "code",
   "execution_count": 25,
   "id": "a3052c32",
   "metadata": {},
   "outputs": [],
   "source": [
    "merge_df2 = w2.merge(merge_df, on = 'CASEID_2012', how='left')"
   ]
  },
  {
   "cell_type": "code",
   "execution_count": 26,
   "id": "66102053",
   "metadata": {},
   "outputs": [
    {
     "name": "stdout",
     "output_type": "stream",
     "text": [
      "<class 'pandas.core.frame.DataFrame'>\n",
      "Int64Index: 51533 entries, 0 to 51532\n",
      "Data columns (total 85 columns):\n",
      " #   Column                                                  Non-Null Count  Dtype  \n",
      "---  ------                                                  --------------  -----  \n",
      " 0   Unnamed: 0                                              51533 non-null  int64  \n",
      " 1   SURVEY_x                                                51533 non-null  object \n",
      " 2   STATEID_x                                               51533 non-null  object \n",
      " 3   DISTID_x                                                51533 non-null  int64  \n",
      " 4   PSUID_x                                                 51533 non-null  int64  \n",
      " 5   HHID_x                                                  51533 non-null  int64  \n",
      " 6   HHSPLITID_x                                             51533 non-null  int64  \n",
      " 7   PERSONID                                                51533 non-null  float64\n",
      " 8   IDPSU_x                                                 51533 non-null  int64  \n",
      " 9   IDHH                                                    51533 non-null  int64  \n",
      " 10  CASEID_2012                                             51533 non-null  float64\n",
      " 11  WT_x                                                    51533 non-null  float64\n",
      " 12  FWT_x                                                   51533 non-null  float64\n",
      " 13  DIST01_x                                                51533 non-null  float64\n",
      " 14  DISTRICT_x                                              51533 non-null  object \n",
      " 15  sex                                                     51533 non-null  int64  \n",
      " 16  relation_to_head                                        51533 non-null  object \n",
      " 17  age                                                     51533 non-null  float64\n",
      " 18  mar_status                                              51533 non-null  object \n",
      " 19  activity_status                                         51533 non-null  object \n",
      " 20  spouse_id                                               376 non-null    object \n",
      " 21  father_id                                               51533 non-null  int64  \n",
      " 22  mother_id                                               51533 non-null  int64  \n",
      " 23  FM38                                                    51533 non-null  float64\n",
      " 24  NF13                                                    51533 non-null  float64\n",
      " 25  NF33                                                    51533 non-null  float64\n",
      " 26  NF53                                                    51533 non-null  float64\n",
      " 27  religion                                                51533 non-null  object \n",
      " 28  occup                                                   51533 non-null  int64  \n",
      " 29  industry                                                1811 non-null   float64\n",
      " 30  wkhr_perday                                             51533 non-null  float64\n",
      " 31  WKANY5                                                  51533 non-null  object \n",
      " 32  WKDAYS                                                  51533 non-null  float64\n",
      " 33  NF1                                                     51533 non-null  object \n",
      " 34  NFBN21                                                  51533 non-null  object \n",
      " 35  NFBN41                                                  51533 non-null  object \n",
      " 36  total_wkhr_perday                                       51510 non-null  float64\n",
      " 37  age_gp                                                  51533 non-null  int64  \n",
      " 38  total_wk_hr                                             51510 non-null  float64\n",
      " 39  hazard                                                  51533 non-null  int64  \n",
      " 40  CL_incidence                                            51533 non-null  int64  \n",
      " 41  OCCUP_GP                                                51533 non-null  object \n",
      " 42  unique_father_id                                        51533 non-null  int64  \n",
      " 43  unique_mother_id                                        51533 non-null  int64  \n",
      " 44  paternal_occup_w2                                       44466 non-null  object \n",
      " 45  maternal_occup_w2                                       48760 non-null  object \n",
      " 46  RELIGION_GP                                             51533 non-null  object \n",
      " 47  RELIGION_GP_Muslim                                      51533 non-null  int64  \n",
      " 48  RELIGION_GP_Others                                      51533 non-null  int64  \n",
      " 49  SURVEY_y                                                51533 non-null  object \n",
      " 50  STATEID_y                                               51533 non-null  object \n",
      " 51  DISTID_y                                                51533 non-null  int64  \n",
      " 52  PSUID_y                                                 51533 non-null  int64  \n",
      " 53  HHID_y                                                  51533 non-null  int64  \n",
      " 54  HHSPLITID_y                                             51533 non-null  int64  \n",
      " 55  IDPSU_y                                                 51533 non-null  int64  \n",
      " 56  WT_y                                                    51533 non-null  float64\n",
      " 57  FWT_y                                                   51533 non-null  int64  \n",
      " 58  DIST01_y                                                51533 non-null  int64  \n",
      " 59  DISTRICT_y                                              51533 non-null  object \n",
      " 60  NPERSONS                                                51533 non-null  int64  \n",
      " 61  ID13                                                    51533 non-null  object \n",
      " 62  HHEDUC                                                  51528 non-null  object \n",
      " 63  POOR                                                    51533 non-null  int64  \n",
      " 64  SATOILET                                                51533 non-null  int64  \n",
      " 65  WATER                                                   51533 non-null  int64  \n",
      " 66  household_size                                          51533 non-null  int64  \n",
      " 67  PARENT_EDUC                                             51533 non-null  int64  \n",
      " 68  SOCIAL_GP                                               51533 non-null  object \n",
      " 69  SOCIAL_GP_Forward/General (except Brahmin)              51533 non-null  int64  \n",
      " 70  SOCIAL_GP_Other Backward Castes (OBC)                   51533 non-null  int64  \n",
      " 71  SOCIAL_GP_Scheduled Castes, Scheduled Tribes or Others  51533 non-null  int64  \n",
      " 72  paternal_occup_w2_Farmers, Fishermen & Hunters          51533 non-null  int64  \n",
      " 73  paternal_occup_w2_Others                                51533 non-null  int64  \n",
      " 74  paternal_occup_w2_Professional & Managerial             51533 non-null  int64  \n",
      " 75  paternal_occup_w2_Sales workers                         51533 non-null  int64  \n",
      " 76  paternal_occup_w2_Service & Clerical                    51533 non-null  int64  \n",
      " 77  maternal_occup_w2_Farmers, Fishermen & Hunters          51533 non-null  int64  \n",
      " 78  maternal_occup_w2_Others                                51533 non-null  int64  \n",
      " 79  maternal_occup_w2_Professional & Managerial             51533 non-null  int64  \n",
      " 80  maternal_occup_w2_Sales workers                         51533 non-null  int64  \n",
      " 81  maternal_occup_w2_Service & Clerical                    51533 non-null  int64  \n",
      " 82  CASEID_2005                                             22426 non-null  float64\n",
      " 83  paternal_occup_w1                                       20627 non-null  object \n",
      " 84  maternal_occup_w1                                       21813 non-null  object \n",
      "dtypes: float64(17), int64(44), object(24)\n",
      "memory usage: 33.8+ MB\n"
     ]
    }
   ],
   "source": [
    "merge_df2.info()"
   ]
  },
  {
   "cell_type": "code",
   "execution_count": 27,
   "id": "924f972a",
   "metadata": {},
   "outputs": [],
   "source": [
    "merge_df2.to_csv(path + '/'+ 'w1_w2_merged.csv')"
   ]
  },
  {
   "cell_type": "markdown",
   "id": "9f9e0183",
   "metadata": {},
   "source": [
    "# Run Cramer's V test on merged dataset"
   ]
  },
  {
   "cell_type": "code",
   "execution_count": 28,
   "id": "4dbb7bfc",
   "metadata": {},
   "outputs": [],
   "source": [
    "df = pd.read_csv(path + '/'+ 'w1_w2_merged.csv')"
   ]
  },
  {
   "cell_type": "code",
   "execution_count": 29,
   "id": "a7d9f475",
   "metadata": {},
   "outputs": [],
   "source": [
    "# convert Cl_incidence to binary variable\n",
    "df['CL_incidence'] = df['CL_incidence'].replace([0,1],['No','Yes'])"
   ]
  },
  {
   "cell_type": "code",
   "execution_count": 30,
   "id": "960ef456",
   "metadata": {},
   "outputs": [],
   "source": [
    "# create df2 by selecting 2 columns\n",
    "df2 = df[['paternal_occup_w1', 'CL_incidence']]"
   ]
  },
  {
   "cell_type": "code",
   "execution_count": 31,
   "id": "48136883",
   "metadata": {},
   "outputs": [
    {
     "data": {
      "text/plain": [
       "30906"
      ]
     },
     "execution_count": 31,
     "metadata": {},
     "output_type": "execute_result"
    }
   ],
   "source": [
    "df2['paternal_occup_w1'].isna().sum()"
   ]
  },
  {
   "cell_type": "code",
   "execution_count": 32,
   "id": "6cd9ee11",
   "metadata": {},
   "outputs": [
    {
     "name": "stderr",
     "output_type": "stream",
     "text": [
      "C:\\Users\\User\\anaconda3\\lib\\site-packages\\pandas\\util\\_decorators.py:311: SettingWithCopyWarning: \n",
      "A value is trying to be set on a copy of a slice from a DataFrame\n",
      "\n",
      "See the caveats in the documentation: https://pandas.pydata.org/pandas-docs/stable/user_guide/indexing.html#returning-a-view-versus-a-copy\n",
      "  return func(*args, **kwargs)\n"
     ]
    }
   ],
   "source": [
    "# remove rows with missing values in paternal_occup_w1\n",
    "df2.dropna(axis = 0, inplace= True)\n",
    "# 30906 rows are dropped"
   ]
  },
  {
   "cell_type": "code",
   "execution_count": 33,
   "id": "409990cd",
   "metadata": {},
   "outputs": [],
   "source": [
    "myfield1 = df2['paternal_occup_w1']\n",
    "myfield2 = df2['CL_incidence']"
   ]
  },
  {
   "cell_type": "code",
   "execution_count": 34,
   "id": "73ecb976",
   "metadata": {},
   "outputs": [],
   "source": [
    "contTable = pd.crosstab(myfield1, myfield2)"
   ]
  },
  {
   "cell_type": "code",
   "execution_count": 35,
   "id": "a7726198",
   "metadata": {},
   "outputs": [
    {
     "data": {
      "text/html": [
       "<div>\n",
       "<style scoped>\n",
       "    .dataframe tbody tr th:only-of-type {\n",
       "        vertical-align: middle;\n",
       "    }\n",
       "\n",
       "    .dataframe tbody tr th {\n",
       "        vertical-align: top;\n",
       "    }\n",
       "\n",
       "    .dataframe thead th {\n",
       "        text-align: right;\n",
       "    }\n",
       "</style>\n",
       "<table border=\"1\" class=\"dataframe\">\n",
       "  <thead>\n",
       "    <tr style=\"text-align: right;\">\n",
       "      <th>CL_incidence</th>\n",
       "      <th>No</th>\n",
       "      <th>Yes</th>\n",
       "    </tr>\n",
       "    <tr>\n",
       "      <th>paternal_occup_w1</th>\n",
       "      <th></th>\n",
       "      <th></th>\n",
       "    </tr>\n",
       "  </thead>\n",
       "  <tbody>\n",
       "    <tr>\n",
       "      <th>Construction, Production &amp; Labour</th>\n",
       "      <td>4819</td>\n",
       "      <td>952</td>\n",
       "    </tr>\n",
       "    <tr>\n",
       "      <th>Farmers, Fishermen &amp; Hunters</th>\n",
       "      <td>3611</td>\n",
       "      <td>995</td>\n",
       "    </tr>\n",
       "    <tr>\n",
       "      <th>Others</th>\n",
       "      <td>6290</td>\n",
       "      <td>826</td>\n",
       "    </tr>\n",
       "    <tr>\n",
       "      <th>Professional &amp; Managerial</th>\n",
       "      <td>617</td>\n",
       "      <td>26</td>\n",
       "    </tr>\n",
       "    <tr>\n",
       "      <th>Sales workers</th>\n",
       "      <td>354</td>\n",
       "      <td>23</td>\n",
       "    </tr>\n",
       "    <tr>\n",
       "      <th>Service &amp; Clerical</th>\n",
       "      <td>1947</td>\n",
       "      <td>167</td>\n",
       "    </tr>\n",
       "  </tbody>\n",
       "</table>\n",
       "</div>"
      ],
      "text/plain": [
       "CL_incidence                         No  Yes\n",
       "paternal_occup_w1                           \n",
       "Construction, Production & Labour  4819  952\n",
       "Farmers, Fishermen & Hunters       3611  995\n",
       "Others                             6290  826\n",
       "Professional & Managerial           617   26\n",
       "Sales workers                       354   23\n",
       "Service & Clerical                 1947  167"
      ]
     },
     "execution_count": 35,
     "metadata": {},
     "output_type": "execute_result"
    }
   ],
   "source": [
    "contTable"
   ]
  },
  {
   "cell_type": "code",
   "execution_count": 37,
   "id": "8647b5ab",
   "metadata": {},
   "outputs": [],
   "source": [
    "# Run the Cramer's V test with researchpy package\n",
    "crosstab, res = researchpy.crosstab(df2['paternal_occup_w1'], df2['CL_incidence'], test = 'chi-square')"
   ]
  },
  {
   "cell_type": "code",
   "execution_count": 38,
   "id": "4277286d",
   "metadata": {},
   "outputs": [
    {
     "data": {
      "text/html": [
       "<div>\n",
       "<style scoped>\n",
       "    .dataframe tbody tr th:only-of-type {\n",
       "        vertical-align: middle;\n",
       "    }\n",
       "\n",
       "    .dataframe tbody tr th {\n",
       "        vertical-align: top;\n",
       "    }\n",
       "\n",
       "    .dataframe thead th {\n",
       "        text-align: right;\n",
       "    }\n",
       "</style>\n",
       "<table border=\"1\" class=\"dataframe\">\n",
       "  <thead>\n",
       "    <tr style=\"text-align: right;\">\n",
       "      <th></th>\n",
       "      <th>Chi-square test</th>\n",
       "      <th>results</th>\n",
       "    </tr>\n",
       "  </thead>\n",
       "  <tbody>\n",
       "    <tr>\n",
       "      <th>0</th>\n",
       "      <td>Pearson Chi-square ( 5.0) =</td>\n",
       "      <td>406.6342</td>\n",
       "    </tr>\n",
       "    <tr>\n",
       "      <th>1</th>\n",
       "      <td>p-value =</td>\n",
       "      <td>0.0000</td>\n",
       "    </tr>\n",
       "    <tr>\n",
       "      <th>2</th>\n",
       "      <td>Cramer's V =</td>\n",
       "      <td>0.1404</td>\n",
       "    </tr>\n",
       "  </tbody>\n",
       "</table>\n",
       "</div>"
      ],
      "text/plain": [
       "                Chi-square test   results\n",
       "0  Pearson Chi-square ( 5.0) =   406.6342\n",
       "1                    p-value =     0.0000\n",
       "2                 Cramer's V =     0.1404"
      ]
     },
     "execution_count": 38,
     "metadata": {},
     "output_type": "execute_result"
    }
   ],
   "source": [
    "res"
   ]
  },
  {
   "cell_type": "code",
   "execution_count": 39,
   "id": "d4234e0f",
   "metadata": {},
   "outputs": [
    {
     "name": "stderr",
     "output_type": "stream",
     "text": [
      "C:\\Users\\User\\anaconda3\\lib\\site-packages\\pandas\\util\\_decorators.py:311: SettingWithCopyWarning: \n",
      "A value is trying to be set on a copy of a slice from a DataFrame\n",
      "\n",
      "See the caveats in the documentation: https://pandas.pydata.org/pandas-docs/stable/user_guide/indexing.html#returning-a-view-versus-a-copy\n",
      "  return func(*args, **kwargs)\n"
     ]
    }
   ],
   "source": [
    "# Repeat for maternal occup w1\n",
    "df3 = df[['maternal_occup_w1', 'CL_incidence']]\n",
    "df3.dropna(axis = 0, inplace= True)\n",
    "\n",
    "# Run the Cramer's V test with researchpy package\n",
    "crosstab, res = researchpy.crosstab(df3['maternal_occup_w1'], df3['CL_incidence'], test = 'chi-square')"
   ]
  },
  {
   "cell_type": "code",
   "execution_count": 41,
   "id": "a08e73e6",
   "metadata": {},
   "outputs": [],
   "source": [
    "contTable = pd.crosstab(df3['maternal_occup_w1'], df3['CL_incidence'])"
   ]
  },
  {
   "cell_type": "code",
   "execution_count": 42,
   "id": "6cb455f9",
   "metadata": {},
   "outputs": [
    {
     "data": {
      "text/html": [
       "<div>\n",
       "<style scoped>\n",
       "    .dataframe tbody tr th:only-of-type {\n",
       "        vertical-align: middle;\n",
       "    }\n",
       "\n",
       "    .dataframe tbody tr th {\n",
       "        vertical-align: top;\n",
       "    }\n",
       "\n",
       "    .dataframe thead th {\n",
       "        text-align: right;\n",
       "    }\n",
       "</style>\n",
       "<table border=\"1\" class=\"dataframe\">\n",
       "  <thead>\n",
       "    <tr style=\"text-align: right;\">\n",
       "      <th>CL_incidence</th>\n",
       "      <th>No</th>\n",
       "      <th>Yes</th>\n",
       "    </tr>\n",
       "    <tr>\n",
       "      <th>maternal_occup_w1</th>\n",
       "      <th></th>\n",
       "      <th></th>\n",
       "    </tr>\n",
       "  </thead>\n",
       "  <tbody>\n",
       "    <tr>\n",
       "      <th>Construction, Production &amp; Labour</th>\n",
       "      <td>918</td>\n",
       "      <td>277</td>\n",
       "    </tr>\n",
       "    <tr>\n",
       "      <th>Farmers, Fishermen &amp; Hunters</th>\n",
       "      <td>2756</td>\n",
       "      <td>893</td>\n",
       "    </tr>\n",
       "    <tr>\n",
       "      <th>Others</th>\n",
       "      <td>14472</td>\n",
       "      <td>1935</td>\n",
       "    </tr>\n",
       "    <tr>\n",
       "      <th>Professional &amp; Managerial</th>\n",
       "      <td>178</td>\n",
       "      <td>5</td>\n",
       "    </tr>\n",
       "    <tr>\n",
       "      <th>Sales workers</th>\n",
       "      <td>20</td>\n",
       "      <td>1</td>\n",
       "    </tr>\n",
       "    <tr>\n",
       "      <th>Service &amp; Clerical</th>\n",
       "      <td>316</td>\n",
       "      <td>42</td>\n",
       "    </tr>\n",
       "  </tbody>\n",
       "</table>\n",
       "</div>"
      ],
      "text/plain": [
       "CL_incidence                          No   Yes\n",
       "maternal_occup_w1                             \n",
       "Construction, Production & Labour    918   277\n",
       "Farmers, Fishermen & Hunters        2756   893\n",
       "Others                             14472  1935\n",
       "Professional & Managerial            178     5\n",
       "Sales workers                         20     1\n",
       "Service & Clerical                   316    42"
      ]
     },
     "execution_count": 42,
     "metadata": {},
     "output_type": "execute_result"
    }
   ],
   "source": [
    "contTable"
   ]
  },
  {
   "cell_type": "code",
   "execution_count": 40,
   "id": "944cb259",
   "metadata": {},
   "outputs": [
    {
     "data": {
      "text/html": [
       "<div>\n",
       "<style scoped>\n",
       "    .dataframe tbody tr th:only-of-type {\n",
       "        vertical-align: middle;\n",
       "    }\n",
       "\n",
       "    .dataframe tbody tr th {\n",
       "        vertical-align: top;\n",
       "    }\n",
       "\n",
       "    .dataframe thead th {\n",
       "        text-align: right;\n",
       "    }\n",
       "</style>\n",
       "<table border=\"1\" class=\"dataframe\">\n",
       "  <thead>\n",
       "    <tr style=\"text-align: right;\">\n",
       "      <th></th>\n",
       "      <th>Chi-square test</th>\n",
       "      <th>results</th>\n",
       "    </tr>\n",
       "  </thead>\n",
       "  <tbody>\n",
       "    <tr>\n",
       "      <th>0</th>\n",
       "      <td>Pearson Chi-square ( 5.0) =</td>\n",
       "      <td>487.7508</td>\n",
       "    </tr>\n",
       "    <tr>\n",
       "      <th>1</th>\n",
       "      <td>p-value =</td>\n",
       "      <td>0.0000</td>\n",
       "    </tr>\n",
       "    <tr>\n",
       "      <th>2</th>\n",
       "      <td>Cramer's V =</td>\n",
       "      <td>0.1495</td>\n",
       "    </tr>\n",
       "  </tbody>\n",
       "</table>\n",
       "</div>"
      ],
      "text/plain": [
       "                Chi-square test   results\n",
       "0  Pearson Chi-square ( 5.0) =   487.7508\n",
       "1                    p-value =     0.0000\n",
       "2                 Cramer's V =     0.1495"
      ]
     },
     "execution_count": 40,
     "metadata": {},
     "output_type": "execute_result"
    }
   ],
   "source": [
    "res"
   ]
  },
  {
   "cell_type": "code",
   "execution_count": null,
   "id": "ce16675f",
   "metadata": {},
   "outputs": [],
   "source": [
    "# PLotting diagram for CL incidnece and parental occupations\n"
   ]
  },
  {
   "cell_type": "code",
   "execution_count": null,
   "id": "473c8223",
   "metadata": {},
   "outputs": [],
   "source": []
  }
 ],
 "metadata": {
  "kernelspec": {
   "display_name": "Python 3 (ipykernel)",
   "language": "python",
   "name": "python3"
  },
  "language_info": {
   "codemirror_mode": {
    "name": "ipython",
    "version": 3
   },
   "file_extension": ".py",
   "mimetype": "text/x-python",
   "name": "python",
   "nbconvert_exporter": "python",
   "pygments_lexer": "ipython3",
   "version": "3.9.7"
  }
 },
 "nbformat": 4,
 "nbformat_minor": 5
}
